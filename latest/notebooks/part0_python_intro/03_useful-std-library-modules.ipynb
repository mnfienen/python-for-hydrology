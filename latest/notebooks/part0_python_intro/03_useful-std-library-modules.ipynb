{
 "cells": [
  {
   "cell_type": "markdown",
   "metadata": {},
   "source": [
    "# 03: Useful standard library modules\n",
    "(pathlib, shutil, sys, os, subprocess, zipfile, etc.)\n",
    "\n",
    "These packages are part of the standard python library and provide very useful functionality for working with your operating system and files.  This notebook will provide these packages and demonstrate some of their functionality.  Online documentation is at https://docs.python.org/3/library/.\n",
    "\n",
    "\n",
    "## Topics covered:\n",
    "* **pathlib**:\n",
    "    * listing files\n",
    "    * creating, moving and deleting files\n",
    "    * absolute vs relative paths\n",
    "    * useful path object attributes\n",
    "* **shutil**: \n",
    "    * copying, moving and deleting files AND folders\n",
    "* **sys**: \n",
    "    * python and platform information\n",
    "    * command line arguments\n",
    "    * modifying the python path to import code from other locations\n",
    "* **os**:\n",
    "    * changing the working directory\n",
    "    * recursive iteration through folder structures\n",
    "    * accessing environmental variables\n",
    "* **subprocess**: \n",
    "    * running system commands and checking the results\n",
    "* **zipfile**:\n",
    "    * creating and extracting from zip archives"
   ]
  },
  {
   "cell_type": "code",
   "execution_count": 1,
   "metadata": {
    "execution": {
     "iopub.execute_input": "2025-09-24T19:48:57.324398Z",
     "iopub.status.busy": "2025-09-24T19:48:57.324258Z",
     "iopub.status.idle": "2025-09-24T19:48:57.329103Z",
     "shell.execute_reply": "2025-09-24T19:48:57.328704Z"
    }
   },
   "outputs": [],
   "source": [
    "import os\n",
    "from pathlib import Path\n",
    "import shutil\n",
    "import subprocess\n",
    "import sys\n",
    "import zipfile"
   ]
  },
  {
   "cell_type": "markdown",
   "metadata": {},
   "source": [
    "## ``pathlib`` — Object-oriented filesystem paths\n",
    "Pathlib provides convenient \"pathlike\" objects for working with file paths across platforms (meaning paths or operations done with pathlib work the same on Windows or POSIX systems (Linux, OSX, etc)). The main entry point for users is the ``Path()`` class.\n",
    "\n",
    "further reading:  \n",
    "https://treyhunner.com/2018/12/why-you-should-be-using-pathlib/  \n",
    "https://docs.python.org/3/library/pathlib.html"
   ]
  },
  {
   "cell_type": "markdown",
   "metadata": {},
   "source": [
    "### Listing files\n",
    "\n",
    "#### Start by making a ``Path()`` object for the current folder"
   ]
  },
  {
   "cell_type": "code",
   "execution_count": 2,
   "metadata": {
    "execution": {
     "iopub.execute_input": "2025-09-24T19:48:57.330507Z",
     "iopub.status.busy": "2025-09-24T19:48:57.330366Z",
     "iopub.status.idle": "2025-09-24T19:48:57.335349Z",
     "shell.execute_reply": "2025-09-24T19:48:57.334852Z"
    }
   },
   "outputs": [
    {
     "data": {
      "text/plain": [
       "PosixPath('.')"
      ]
     },
     "execution_count": 2,
     "metadata": {},
     "output_type": "execute_result"
    }
   ],
   "source": [
    "cwd = Path('.')\n",
    "cwd"
   ]
  },
  {
   "cell_type": "code",
   "execution_count": 3,
   "metadata": {
    "execution": {
     "iopub.execute_input": "2025-09-24T19:48:57.336698Z",
     "iopub.status.busy": "2025-09-24T19:48:57.336540Z",
     "iopub.status.idle": "2025-09-24T19:48:57.339465Z",
     "shell.execute_reply": "2025-09-24T19:48:57.338989Z"
    }
   },
   "outputs": [
    {
     "name": "stdout",
     "output_type": "stream",
     "text": [
      "10b_Rasterio_advanced.ipynb\n",
      "00_python_basics_review.ipynb\n",
      "03_useful-std-library-modules.ipynb\n",
      "05_numpy.ipynb\n",
      "11_xarray_mt_rainier_precip.ipynb\n",
      "10a_Rasterio_intro.ipynb\n",
      "07b_VSCode.md\n",
      "09_b_Geopandas_ABQ.ipynb\n",
      "data\n",
      "06b_matplotlib_animation.ipynb\n",
      "solutions\n",
      "09_a_Geopandas.ipynb\n"
     ]
    }
   ],
   "source": [
    "for f in cwd.iterdir():\n",
    "    print(f)"
   ]
  },
  {
   "cell_type": "markdown",
   "metadata": {},
   "source": [
    "#### List just the notebooks using the ``.glob()`` method"
   ]
  },
  {
   "cell_type": "code",
   "execution_count": 4,
   "metadata": {
    "execution": {
     "iopub.execute_input": "2025-09-24T19:48:57.340777Z",
     "iopub.status.busy": "2025-09-24T19:48:57.340628Z",
     "iopub.status.idle": "2025-09-24T19:48:57.343685Z",
     "shell.execute_reply": "2025-09-24T19:48:57.343287Z"
    }
   },
   "outputs": [
    {
     "name": "stdout",
     "output_type": "stream",
     "text": [
      "10b_Rasterio_advanced.ipynb\n",
      "00_python_basics_review.ipynb\n",
      "03_useful-std-library-modules.ipynb\n",
      "05_numpy.ipynb\n",
      "11_xarray_mt_rainier_precip.ipynb\n",
      "10a_Rasterio_intro.ipynb\n",
      "09_b_Geopandas_ABQ.ipynb\n",
      "06b_matplotlib_animation.ipynb\n",
      "09_a_Geopandas.ipynb\n"
     ]
    }
   ],
   "source": [
    "for nb in cwd.glob('*.ipynb'):\n",
    "    print(nb)"
   ]
  },
  {
   "cell_type": "markdown",
   "metadata": {},
   "source": [
    "#### Note: ``.glob()`` works across folders too\n",
    "List all notebooks for both class components"
   ]
  },
  {
   "cell_type": "code",
   "execution_count": 5,
   "metadata": {
    "execution": {
     "iopub.execute_input": "2025-09-24T19:48:57.345018Z",
     "iopub.status.busy": "2025-09-24T19:48:57.344878Z",
     "iopub.status.idle": "2025-09-24T19:48:57.348060Z",
     "shell.execute_reply": "2025-09-24T19:48:57.347536Z"
    }
   },
   "outputs": [
    {
     "name": "stdout",
     "output_type": "stream",
     "text": [
      "../part0_python_intro/10b_Rasterio_advanced.ipynb\n",
      "../part0_python_intro/00_python_basics_review.ipynb\n",
      "../part0_python_intro/03_useful-std-library-modules.ipynb\n",
      "../part0_python_intro/05_numpy.ipynb\n",
      "../part0_python_intro/11_xarray_mt_rainier_precip.ipynb\n",
      "../part0_python_intro/10a_Rasterio_intro.ipynb\n",
      "../part0_python_intro/09_b_Geopandas_ABQ.ipynb\n",
      "../part0_python_intro/06b_matplotlib_animation.ipynb\n",
      "../part0_python_intro/09_a_Geopandas.ipynb\n",
      "../part1_flopy/05_Unstructured_Grid_generation.ipynb\n",
      "../part1_flopy/10a_prt_particle_tracking-demo.ipynb\n",
      "../part1_flopy/08_Modflow-setup-demo.ipynb\n",
      "../part1_flopy/09-gwt-voronoi-demo.ipynb\n",
      "../part1_flopy/10b_modpath_particle_tracking-demo.ipynb\n",
      "../part1_flopy/01-Flopy-intro.ipynb\n"
     ]
    }
   ],
   "source": [
    "for nb in cwd.glob('../*/*.ipynb'):\n",
    "    print(nb)"
   ]
  },
  {
   "cell_type": "markdown",
   "metadata": {},
   "source": [
    "#### But ``glob`` results aren't sorted alphabetically!\n",
    "(and the sorting is platform-dependent)\n",
    "\n",
    "https://arstechnica.com/information-technology/2019/10/chemists-discover-cross-platform-python-scripts-not-so-cross-platform/?comments=1&post=38113333\n",
    "\n",
    "we can easily sort them by casting the results to a list"
   ]
  },
  {
   "cell_type": "code",
   "execution_count": 6,
   "metadata": {
    "execution": {
     "iopub.execute_input": "2025-09-24T19:48:57.349479Z",
     "iopub.status.busy": "2025-09-24T19:48:57.349335Z",
     "iopub.status.idle": "2025-09-24T19:48:57.353087Z",
     "shell.execute_reply": "2025-09-24T19:48:57.352670Z"
    }
   },
   "outputs": [
    {
     "data": {
      "text/plain": [
       "[PosixPath('../part0_python_intro/00_python_basics_review.ipynb'),\n",
       " PosixPath('../part0_python_intro/03_useful-std-library-modules.ipynb'),\n",
       " PosixPath('../part0_python_intro/05_numpy.ipynb'),\n",
       " PosixPath('../part0_python_intro/06b_matplotlib_animation.ipynb'),\n",
       " PosixPath('../part0_python_intro/09_a_Geopandas.ipynb'),\n",
       " PosixPath('../part0_python_intro/09_b_Geopandas_ABQ.ipynb'),\n",
       " PosixPath('../part0_python_intro/10a_Rasterio_intro.ipynb'),\n",
       " PosixPath('../part0_python_intro/10b_Rasterio_advanced.ipynb'),\n",
       " PosixPath('../part0_python_intro/11_xarray_mt_rainier_precip.ipynb'),\n",
       " PosixPath('../part1_flopy/01-Flopy-intro.ipynb'),\n",
       " PosixPath('../part1_flopy/05_Unstructured_Grid_generation.ipynb'),\n",
       " PosixPath('../part1_flopy/08_Modflow-setup-demo.ipynb'),\n",
       " PosixPath('../part1_flopy/09-gwt-voronoi-demo.ipynb'),\n",
       " PosixPath('../part1_flopy/10a_prt_particle_tracking-demo.ipynb'),\n",
       " PosixPath('../part1_flopy/10b_modpath_particle_tracking-demo.ipynb')]"
      ]
     },
     "execution_count": 6,
     "metadata": {},
     "output_type": "execute_result"
    }
   ],
   "source": [
    "sorted(list(cwd.glob('../*/*.ipynb')))"
   ]
  },
  {
   "cell_type": "markdown",
   "metadata": {},
   "source": [
    "**Note:** There is also a glob module in the standard python library that works directly with string paths"
   ]
  },
  {
   "cell_type": "code",
   "execution_count": 7,
   "metadata": {
    "execution": {
     "iopub.execute_input": "2025-09-24T19:48:57.354408Z",
     "iopub.status.busy": "2025-09-24T19:48:57.354275Z",
     "iopub.status.idle": "2025-09-24T19:48:57.357861Z",
     "shell.execute_reply": "2025-09-24T19:48:57.357357Z"
    }
   },
   "outputs": [
    {
     "data": {
      "text/plain": [
       "['../part0_python_intro/00_python_basics_review.ipynb',\n",
       " '../part0_python_intro/03_useful-std-library-modules.ipynb',\n",
       " '../part0_python_intro/05_numpy.ipynb',\n",
       " '../part0_python_intro/06b_matplotlib_animation.ipynb',\n",
       " '../part0_python_intro/09_a_Geopandas.ipynb',\n",
       " '../part0_python_intro/09_b_Geopandas_ABQ.ipynb',\n",
       " '../part0_python_intro/10a_Rasterio_intro.ipynb',\n",
       " '../part0_python_intro/10b_Rasterio_advanced.ipynb',\n",
       " '../part0_python_intro/11_xarray_mt_rainier_precip.ipynb',\n",
       " '../part1_flopy/01-Flopy-intro.ipynb',\n",
       " '../part1_flopy/05_Unstructured_Grid_generation.ipynb',\n",
       " '../part1_flopy/08_Modflow-setup-demo.ipynb',\n",
       " '../part1_flopy/09-gwt-voronoi-demo.ipynb',\n",
       " '../part1_flopy/10a_prt_particle_tracking-demo.ipynb',\n",
       " '../part1_flopy/10b_modpath_particle_tracking-demo.ipynb']"
      ]
     },
     "execution_count": 7,
     "metadata": {},
     "output_type": "execute_result"
    }
   ],
   "source": [
    "import glob\n",
    "sorted(list(glob.glob('../*/*.ipynb')))"
   ]
  },
  {
   "cell_type": "markdown",
   "metadata": {},
   "source": [
    "#### List just the subfolders"
   ]
  },
  {
   "cell_type": "code",
   "execution_count": 8,
   "metadata": {
    "execution": {
     "iopub.execute_input": "2025-09-24T19:48:57.359211Z",
     "iopub.status.busy": "2025-09-24T19:48:57.359068Z",
     "iopub.status.idle": "2025-09-24T19:48:57.362641Z",
     "shell.execute_reply": "2025-09-24T19:48:57.362143Z"
    }
   },
   "outputs": [
    {
     "data": {
      "text/plain": [
       "[PosixPath('data'), PosixPath('solutions')]"
      ]
     },
     "execution_count": 8,
     "metadata": {},
     "output_type": "execute_result"
    }
   ],
   "source": [
    "[f for f in cwd.iterdir() if f.is_dir()]"
   ]
  },
  {
   "cell_type": "markdown",
   "metadata": {},
   "source": [
    "### Creating files and folders\n",
    "\n",
    "#### make a ``Path`` object for a new subdirectory"
   ]
  },
  {
   "cell_type": "code",
   "execution_count": 9,
   "metadata": {
    "execution": {
     "iopub.execute_input": "2025-09-24T19:48:57.364090Z",
     "iopub.status.busy": "2025-09-24T19:48:57.363940Z",
     "iopub.status.idle": "2025-09-24T19:48:57.367191Z",
     "shell.execute_reply": "2025-09-24T19:48:57.366667Z"
    }
   },
   "outputs": [
    {
     "data": {
      "text/plain": [
       "PosixPath('more_files')"
      ]
     },
     "execution_count": 9,
     "metadata": {},
     "output_type": "execute_result"
    }
   ],
   "source": [
    "new_folder = cwd / 'more_files'\n",
    "new_folder"
   ]
  },
  {
   "cell_type": "markdown",
   "metadata": {},
   "source": [
    "#### or an individual file"
   ]
  },
  {
   "cell_type": "code",
   "execution_count": 10,
   "metadata": {
    "execution": {
     "iopub.execute_input": "2025-09-24T19:48:57.368552Z",
     "iopub.status.busy": "2025-09-24T19:48:57.368413Z",
     "iopub.status.idle": "2025-09-24T19:48:57.371316Z",
     "shell.execute_reply": "2025-09-24T19:48:57.370942Z"
    }
   },
   "outputs": [
    {
     "data": {
      "text/plain": [
       "PosixPath('00_python_basics_review.ipynb')"
      ]
     },
     "execution_count": 10,
     "metadata": {},
     "output_type": "execute_result"
    }
   ],
   "source": [
    "f = cwd / '00_python_basics_review.ipynb'\n",
    "f"
   ]
  },
  {
   "cell_type": "markdown",
   "metadata": {},
   "source": [
    "#### check if it exists, or if it's a directory"
   ]
  },
  {
   "cell_type": "code",
   "execution_count": 11,
   "metadata": {
    "execution": {
     "iopub.execute_input": "2025-09-24T19:48:57.372610Z",
     "iopub.status.busy": "2025-09-24T19:48:57.372479Z",
     "iopub.status.idle": "2025-09-24T19:48:57.375693Z",
     "shell.execute_reply": "2025-09-24T19:48:57.375202Z"
    }
   },
   "outputs": [
    {
     "data": {
      "text/plain": [
       "(True, False)"
      ]
     },
     "execution_count": 11,
     "metadata": {},
     "output_type": "execute_result"
    }
   ],
   "source": [
    "f.exists(), f.is_dir()"
   ]
  },
  {
   "cell_type": "markdown",
   "metadata": {},
   "source": [
    "#### make the actual folder"
   ]
  },
  {
   "cell_type": "code",
   "execution_count": 12,
   "metadata": {
    "execution": {
     "iopub.execute_input": "2025-09-24T19:48:57.377042Z",
     "iopub.status.busy": "2025-09-24T19:48:57.376881Z",
     "iopub.status.idle": "2025-09-24T19:48:57.380326Z",
     "shell.execute_reply": "2025-09-24T19:48:57.379829Z"
    }
   },
   "outputs": [
    {
     "data": {
      "text/plain": [
       "True"
      ]
     },
     "execution_count": 12,
     "metadata": {},
     "output_type": "execute_result"
    }
   ],
   "source": [
    "new_folder.mkdir(); new_folder.exists()"
   ]
  },
  {
   "cell_type": "markdown",
   "metadata": {},
   "source": [
    "Note that if you try to run the above cell twice, you'll get an error that the folder already exists\n",
    "``exist_ok=True`` suppresses these errors."
   ]
  },
  {
   "cell_type": "code",
   "execution_count": 13,
   "metadata": {
    "execution": {
     "iopub.execute_input": "2025-09-24T19:48:57.381651Z",
     "iopub.status.busy": "2025-09-24T19:48:57.381498Z",
     "iopub.status.idle": "2025-09-24T19:48:57.383950Z",
     "shell.execute_reply": "2025-09-24T19:48:57.383427Z"
    }
   },
   "outputs": [],
   "source": [
    "new_folder.mkdir(exist_ok=True)"
   ]
  },
  {
   "cell_type": "markdown",
   "metadata": {},
   "source": [
    "#### make a new subfolder within a new subfolder\n",
    "The ``parents=True`` argument allows for making subfolders within new subfolders"
   ]
  },
  {
   "cell_type": "code",
   "execution_count": 14,
   "metadata": {
    "execution": {
     "iopub.execute_input": "2025-09-24T19:48:57.385385Z",
     "iopub.status.busy": "2025-09-24T19:48:57.385245Z",
     "iopub.status.idle": "2025-09-24T19:48:57.387640Z",
     "shell.execute_reply": "2025-09-24T19:48:57.387240Z"
    }
   },
   "outputs": [],
   "source": [
    "(new_folder / 'subfolder').mkdir(exist_ok=True, parents=True)"
   ]
  },
  {
   "cell_type": "markdown",
   "metadata": {},
   "source": [
    "### absolute vs. relative pathing\n",
    "\n",
    "Get the absolute location of the current working directory"
   ]
  },
  {
   "cell_type": "code",
   "execution_count": 15,
   "metadata": {
    "execution": {
     "iopub.execute_input": "2025-09-24T19:48:57.389041Z",
     "iopub.status.busy": "2025-09-24T19:48:57.388901Z",
     "iopub.status.idle": "2025-09-24T19:48:57.392111Z",
     "shell.execute_reply": "2025-09-24T19:48:57.391663Z"
    }
   },
   "outputs": [
    {
     "data": {
      "text/plain": [
       "PosixPath('/home/runner/work/python-for-hydrology/python-for-hydrology/docs/source/notebooks/part0_python_intro')"
      ]
     },
     "execution_count": 15,
     "metadata": {},
     "output_type": "execute_result"
    }
   ],
   "source": [
    "abs_cwd = Path.cwd()\n",
    "abs_cwd"
   ]
  },
  {
   "cell_type": "markdown",
   "metadata": {},
   "source": [
    "Go up two levels to the course repository"
   ]
  },
  {
   "cell_type": "code",
   "execution_count": 16,
   "metadata": {
    "execution": {
     "iopub.execute_input": "2025-09-24T19:48:57.393440Z",
     "iopub.status.busy": "2025-09-24T19:48:57.393303Z",
     "iopub.status.idle": "2025-09-24T19:48:57.396318Z",
     "shell.execute_reply": "2025-09-24T19:48:57.395924Z"
    }
   },
   "outputs": [
    {
     "data": {
      "text/plain": [
       "PosixPath('/home/runner/work/python-for-hydrology/python-for-hydrology/docs/source/notebooks/part0_python_intro/../..')"
      ]
     },
     "execution_count": 16,
     "metadata": {},
     "output_type": "execute_result"
    }
   ],
   "source": [
    "class_root = (abs_cwd / '../../')\n",
    "class_root"
   ]
  },
  {
   "cell_type": "markdown",
   "metadata": {},
   "source": [
    "Simplify or resolve the path"
   ]
  },
  {
   "cell_type": "code",
   "execution_count": 17,
   "metadata": {
    "execution": {
     "iopub.execute_input": "2025-09-24T19:48:57.397627Z",
     "iopub.status.busy": "2025-09-24T19:48:57.397488Z",
     "iopub.status.idle": "2025-09-24T19:48:57.400810Z",
     "shell.execute_reply": "2025-09-24T19:48:57.400417Z"
    }
   },
   "outputs": [
    {
     "data": {
      "text/plain": [
       "PosixPath('/home/runner/work/python-for-hydrology/python-for-hydrology/docs/source')"
      ]
     },
     "execution_count": 17,
     "metadata": {},
     "output_type": "execute_result"
    }
   ],
   "source": [
    "class_root = class_root.resolve()\n",
    "class_root"
   ]
  },
  {
   "cell_type": "markdown",
   "metadata": {},
   "source": [
    "Get the cwd relative to the course repository"
   ]
  },
  {
   "cell_type": "code",
   "execution_count": 18,
   "metadata": {
    "execution": {
     "iopub.execute_input": "2025-09-24T19:48:57.402213Z",
     "iopub.status.busy": "2025-09-24T19:48:57.402066Z",
     "iopub.status.idle": "2025-09-24T19:48:57.405235Z",
     "shell.execute_reply": "2025-09-24T19:48:57.404705Z"
    }
   },
   "outputs": [
    {
     "data": {
      "text/plain": [
       "PosixPath('notebooks/part0_python_intro')"
      ]
     },
     "execution_count": 18,
     "metadata": {},
     "output_type": "execute_result"
    }
   ],
   "source": [
    "abs_cwd.relative_to(class_root)"
   ]
  },
  {
   "cell_type": "markdown",
   "metadata": {},
   "source": [
    "check if this is an absolute or relative path"
   ]
  },
  {
   "cell_type": "code",
   "execution_count": 19,
   "metadata": {
    "execution": {
     "iopub.execute_input": "2025-09-24T19:48:57.406662Z",
     "iopub.status.busy": "2025-09-24T19:48:57.406508Z",
     "iopub.status.idle": "2025-09-24T19:48:57.409893Z",
     "shell.execute_reply": "2025-09-24T19:48:57.409374Z"
    }
   },
   "outputs": [
    {
     "data": {
      "text/plain": [
       "False"
      ]
     },
     "execution_count": 19,
     "metadata": {},
     "output_type": "execute_result"
    }
   ],
   "source": [
    "abs_cwd.relative_to(class_root).is_absolute()"
   ]
  },
  {
   "cell_type": "code",
   "execution_count": 20,
   "metadata": {
    "execution": {
     "iopub.execute_input": "2025-09-24T19:48:57.411164Z",
     "iopub.status.busy": "2025-09-24T19:48:57.411015Z",
     "iopub.status.idle": "2025-09-24T19:48:57.414096Z",
     "shell.execute_reply": "2025-09-24T19:48:57.413666Z"
    }
   },
   "outputs": [
    {
     "data": {
      "text/plain": [
       "True"
      ]
     },
     "execution_count": 20,
     "metadata": {},
     "output_type": "execute_result"
    }
   ],
   "source": [
    "abs_cwd.is_absolute()"
   ]
  },
  {
   "cell_type": "markdown",
   "metadata": {},
   "source": [
    "**gottcha:** `Path.relative_to()` only works when the first path is a subpath of the second path, or if both paths are absolute\n",
    "\n",
    "For example, try executing this line: \n",
    "\n",
    "```python\n",
    "Path('../part1_flopy/').relative_to('data')\n",
    "```"
   ]
  },
  {
   "cell_type": "markdown",
   "metadata": {},
   "source": [
    "If you need a relative path that will work robustly in a script, `os.path.relpath` might be a better choice"
   ]
  },
  {
   "cell_type": "code",
   "execution_count": 21,
   "metadata": {
    "execution": {
     "iopub.execute_input": "2025-09-24T19:48:57.415370Z",
     "iopub.status.busy": "2025-09-24T19:48:57.415234Z",
     "iopub.status.idle": "2025-09-24T19:48:57.418315Z",
     "shell.execute_reply": "2025-09-24T19:48:57.417845Z"
    }
   },
   "outputs": [
    {
     "data": {
      "text/plain": [
       "'../../part1_flopy'"
      ]
     },
     "execution_count": 21,
     "metadata": {},
     "output_type": "execute_result"
    }
   ],
   "source": [
    "os.path.relpath('../part1_flopy/', 'data')"
   ]
  },
  {
   "cell_type": "code",
   "execution_count": 22,
   "metadata": {
    "execution": {
     "iopub.execute_input": "2025-09-24T19:48:57.419675Z",
     "iopub.status.busy": "2025-09-24T19:48:57.419526Z",
     "iopub.status.idle": "2025-09-24T19:48:57.422735Z",
     "shell.execute_reply": "2025-09-24T19:48:57.422243Z"
    }
   },
   "outputs": [
    {
     "data": {
      "text/plain": [
       "'../part0_python_intro/data'"
      ]
     },
     "execution_count": 22,
     "metadata": {},
     "output_type": "execute_result"
    }
   ],
   "source": [
    "os.path.relpath('data', '../part1_flopy/')"
   ]
  },
  {
   "cell_type": "markdown",
   "metadata": {},
   "source": [
    "### useful attributes"
   ]
  },
  {
   "cell_type": "code",
   "execution_count": 23,
   "metadata": {
    "execution": {
     "iopub.execute_input": "2025-09-24T19:48:57.424122Z",
     "iopub.status.busy": "2025-09-24T19:48:57.423978Z",
     "iopub.status.idle": "2025-09-24T19:48:57.427080Z",
     "shell.execute_reply": "2025-09-24T19:48:57.426571Z"
    }
   },
   "outputs": [
    {
     "data": {
      "text/plain": [
       "PosixPath('/home/runner/work/python-for-hydrology/python-for-hydrology/docs/source/notebooks')"
      ]
     },
     "execution_count": 23,
     "metadata": {},
     "output_type": "execute_result"
    }
   ],
   "source": [
    "abs_cwd.parent"
   ]
  },
  {
   "cell_type": "code",
   "execution_count": 24,
   "metadata": {
    "execution": {
     "iopub.execute_input": "2025-09-24T19:48:57.428374Z",
     "iopub.status.busy": "2025-09-24T19:48:57.428230Z",
     "iopub.status.idle": "2025-09-24T19:48:57.431313Z",
     "shell.execute_reply": "2025-09-24T19:48:57.430825Z"
    }
   },
   "outputs": [
    {
     "data": {
      "text/plain": [
       "PosixPath('/home/runner/work/python-for-hydrology/python-for-hydrology/docs/source')"
      ]
     },
     "execution_count": 24,
     "metadata": {},
     "output_type": "execute_result"
    }
   ],
   "source": [
    "abs_cwd.parent.parent"
   ]
  },
  {
   "cell_type": "code",
   "execution_count": 25,
   "metadata": {
    "execution": {
     "iopub.execute_input": "2025-09-24T19:48:57.432571Z",
     "iopub.status.busy": "2025-09-24T19:48:57.432423Z",
     "iopub.status.idle": "2025-09-24T19:48:57.435465Z",
     "shell.execute_reply": "2025-09-24T19:48:57.434982Z"
    }
   },
   "outputs": [
    {
     "data": {
      "text/plain": [
       "'00_python_basics_review.ipynb'"
      ]
     },
     "execution_count": 25,
     "metadata": {},
     "output_type": "execute_result"
    }
   ],
   "source": [
    "f.name"
   ]
  },
  {
   "cell_type": "code",
   "execution_count": 26,
   "metadata": {
    "execution": {
     "iopub.execute_input": "2025-09-24T19:48:57.436727Z",
     "iopub.status.busy": "2025-09-24T19:48:57.436576Z",
     "iopub.status.idle": "2025-09-24T19:48:57.439655Z",
     "shell.execute_reply": "2025-09-24T19:48:57.439181Z"
    }
   },
   "outputs": [
    {
     "data": {
      "text/plain": [
       "'.ipynb'"
      ]
     },
     "execution_count": 26,
     "metadata": {},
     "output_type": "execute_result"
    }
   ],
   "source": [
    "f.suffix"
   ]
  },
  {
   "cell_type": "code",
   "execution_count": 27,
   "metadata": {
    "execution": {
     "iopub.execute_input": "2025-09-24T19:48:57.441000Z",
     "iopub.status.busy": "2025-09-24T19:48:57.440855Z",
     "iopub.status.idle": "2025-09-24T19:48:57.444033Z",
     "shell.execute_reply": "2025-09-24T19:48:57.443524Z"
    }
   },
   "outputs": [
    {
     "data": {
      "text/plain": [
       "PosixPath('00_python_basics_review.junk')"
      ]
     },
     "execution_count": 27,
     "metadata": {},
     "output_type": "execute_result"
    }
   ],
   "source": [
    "f.with_suffix('.junk')"
   ]
  },
  {
   "cell_type": "code",
   "execution_count": 28,
   "metadata": {
    "execution": {
     "iopub.execute_input": "2025-09-24T19:48:57.445310Z",
     "iopub.status.busy": "2025-09-24T19:48:57.445167Z",
     "iopub.status.idle": "2025-09-24T19:48:57.448248Z",
     "shell.execute_reply": "2025-09-24T19:48:57.447759Z"
    }
   },
   "outputs": [
    {
     "data": {
      "text/plain": [
       "'00_python_basics_review'"
      ]
     },
     "execution_count": 28,
     "metadata": {},
     "output_type": "execute_result"
    }
   ],
   "source": [
    "f.stem"
   ]
  },
  {
   "cell_type": "markdown",
   "metadata": {},
   "source": [
    "### Moving and deleting files\n",
    "\n",
    "Make a file"
   ]
  },
  {
   "cell_type": "code",
   "execution_count": 29,
   "metadata": {
    "execution": {
     "iopub.execute_input": "2025-09-24T19:48:57.449624Z",
     "iopub.status.busy": "2025-09-24T19:48:57.449480Z",
     "iopub.status.idle": "2025-09-24T19:48:57.452197Z",
     "shell.execute_reply": "2025-09-24T19:48:57.451698Z"
    }
   },
   "outputs": [],
   "source": [
    "fname = Path('new_file.txt')\n",
    "with open(fname, 'w') as dest:\n",
    "    dest.write(\"A new text file.\")"
   ]
  },
  {
   "cell_type": "code",
   "execution_count": 30,
   "metadata": {
    "execution": {
     "iopub.execute_input": "2025-09-24T19:48:57.453595Z",
     "iopub.status.busy": "2025-09-24T19:48:57.453445Z",
     "iopub.status.idle": "2025-09-24T19:48:57.456566Z",
     "shell.execute_reply": "2025-09-24T19:48:57.456088Z"
    }
   },
   "outputs": [
    {
     "data": {
      "text/plain": [
       "True"
      ]
     },
     "execution_count": 30,
     "metadata": {},
     "output_type": "execute_result"
    }
   ],
   "source": [
    "fname.exists()"
   ]
  },
  {
   "cell_type": "markdown",
   "metadata": {},
   "source": [
    "Move the file"
   ]
  },
  {
   "cell_type": "code",
   "execution_count": 31,
   "metadata": {
    "execution": {
     "iopub.execute_input": "2025-09-24T19:48:57.457851Z",
     "iopub.status.busy": "2025-09-24T19:48:57.457686Z",
     "iopub.status.idle": "2025-09-24T19:48:57.460904Z",
     "shell.execute_reply": "2025-09-24T19:48:57.460491Z"
    }
   },
   "outputs": [
    {
     "data": {
      "text/plain": [
       "PosixPath('new_file2.txt')"
      ]
     },
     "execution_count": 31,
     "metadata": {},
     "output_type": "execute_result"
    }
   ],
   "source": [
    "fname2 = Path('new_file2.txt')\n",
    "fname.rename(fname2)"
   ]
  },
  {
   "cell_type": "code",
   "execution_count": 32,
   "metadata": {
    "execution": {
     "iopub.execute_input": "2025-09-24T19:48:57.462202Z",
     "iopub.status.busy": "2025-09-24T19:48:57.462061Z",
     "iopub.status.idle": "2025-09-24T19:48:57.465231Z",
     "shell.execute_reply": "2025-09-24T19:48:57.464812Z"
    }
   },
   "outputs": [
    {
     "data": {
      "text/plain": [
       "False"
      ]
     },
     "execution_count": 32,
     "metadata": {},
     "output_type": "execute_result"
    }
   ],
   "source": [
    "fname.exists()"
   ]
  },
  {
   "cell_type": "markdown",
   "metadata": {},
   "source": [
    "Delete the file"
   ]
  },
  {
   "cell_type": "code",
   "execution_count": 33,
   "metadata": {
    "execution": {
     "iopub.execute_input": "2025-09-24T19:48:57.466521Z",
     "iopub.status.busy": "2025-09-24T19:48:57.466375Z",
     "iopub.status.idle": "2025-09-24T19:48:57.468694Z",
     "shell.execute_reply": "2025-09-24T19:48:57.468228Z"
    }
   },
   "outputs": [],
   "source": [
    "fname2.unlink()"
   ]
  },
  {
   "cell_type": "code",
   "execution_count": 34,
   "metadata": {
    "execution": {
     "iopub.execute_input": "2025-09-24T19:48:57.469992Z",
     "iopub.status.busy": "2025-09-24T19:48:57.469849Z",
     "iopub.status.idle": "2025-09-24T19:48:57.472937Z",
     "shell.execute_reply": "2025-09-24T19:48:57.472501Z"
    }
   },
   "outputs": [
    {
     "data": {
      "text/plain": [
       "False"
      ]
     },
     "execution_count": 34,
     "metadata": {},
     "output_type": "execute_result"
    }
   ],
   "source": [
    "fname2.exists()"
   ]
  },
  {
   "cell_type": "markdown",
   "metadata": {},
   "source": [
    "#### Delete the empty folder we made above\n",
    "Note: this only works for empty directories (use ``shutil.rmtree()`` very carefully for removing folders and all contents within)"
   ]
  },
  {
   "cell_type": "code",
   "execution_count": 35,
   "metadata": {
    "execution": {
     "iopub.execute_input": "2025-09-24T19:48:57.474256Z",
     "iopub.status.busy": "2025-09-24T19:48:57.474114Z",
     "iopub.status.idle": "2025-09-24T19:48:57.476255Z",
     "shell.execute_reply": "2025-09-24T19:48:57.475875Z"
    }
   },
   "outputs": [],
   "source": [
    "Path('more_files/subfolder/').rmdir()"
   ]
  },
  {
   "cell_type": "markdown",
   "metadata": {},
   "source": [
    "## ``shutil`` — High-level file operations\n",
    "module for copying, moving, and deleting files and directories.\n",
    "\n",
    "https://docs.python.org/3/library/shutil.html\n",
    "\n",
    "The functions from shutil that you may find useful are:\n",
    "\n",
    "    shutil.copy()\n",
    "    shutil.copy2()  # this preserves most metadata (i.e. dates); unlike copy()\n",
    "    shutil.copytree()\n",
    "    shutil.move()\n",
    "    shutil.rmtree()  #obviously, you need to be careful with this one!\n",
    "    \n",
    "Give these guys a shot and see what they do.  Remember, you can always get help by typing:\n",
    "\n",
    "    help(shutil.copy)\n"
   ]
  },
  {
   "cell_type": "code",
   "execution_count": 36,
   "metadata": {
    "execution": {
     "iopub.execute_input": "2025-09-24T19:48:57.477615Z",
     "iopub.status.busy": "2025-09-24T19:48:57.477477Z",
     "iopub.status.idle": "2025-09-24T19:48:57.479388Z",
     "shell.execute_reply": "2025-09-24T19:48:57.479017Z"
    }
   },
   "outputs": [],
   "source": [
    "#try them here.  Be careful!"
   ]
  },
  {
   "cell_type": "code",
   "execution_count": 37,
   "metadata": {
    "execution": {
     "iopub.execute_input": "2025-09-24T19:48:57.480732Z",
     "iopub.status.busy": "2025-09-24T19:48:57.480595Z",
     "iopub.status.idle": "2025-09-24T19:48:57.482856Z",
     "shell.execute_reply": "2025-09-24T19:48:57.482453Z"
    }
   },
   "outputs": [],
   "source": [
    "shutil.rmtree(new_folder)"
   ]
  },
  {
   "cell_type": "markdown",
   "metadata": {},
   "source": [
    "## ``sys`` — System-specific parameters and functions\n",
    "\n",
    "### Getting information about python and the os\n",
    "where python is installed"
   ]
  },
  {
   "cell_type": "code",
   "execution_count": 38,
   "metadata": {
    "execution": {
     "iopub.execute_input": "2025-09-24T19:48:57.484159Z",
     "iopub.status.busy": "2025-09-24T19:48:57.484015Z",
     "iopub.status.idle": "2025-09-24T19:48:57.486590Z",
     "shell.execute_reply": "2025-09-24T19:48:57.486081Z"
    }
   },
   "outputs": [
    {
     "name": "stdout",
     "output_type": "stream",
     "text": [
      "/home/runner/micromamba/envs/pyclass-docs\n"
     ]
    }
   ],
   "source": [
    "print(sys.prefix)"
   ]
  },
  {
   "cell_type": "code",
   "execution_count": 39,
   "metadata": {
    "execution": {
     "iopub.execute_input": "2025-09-24T19:48:57.487877Z",
     "iopub.status.busy": "2025-09-24T19:48:57.487716Z",
     "iopub.status.idle": "2025-09-24T19:48:57.490003Z",
     "shell.execute_reply": "2025-09-24T19:48:57.489608Z"
    }
   },
   "outputs": [
    {
     "name": "stdout",
     "output_type": "stream",
     "text": [
      "sys.version_info(major=3, minor=11, micro=13, releaselevel='final', serial=0)\n"
     ]
    }
   ],
   "source": [
    "print(sys.version_info)"
   ]
  },
  {
   "cell_type": "code",
   "execution_count": 40,
   "metadata": {
    "execution": {
     "iopub.execute_input": "2025-09-24T19:48:57.491285Z",
     "iopub.status.busy": "2025-09-24T19:48:57.491139Z",
     "iopub.status.idle": "2025-09-24T19:48:57.494179Z",
     "shell.execute_reply": "2025-09-24T19:48:57.493689Z"
    }
   },
   "outputs": [
    {
     "data": {
      "text/plain": [
       "'linux'"
      ]
     },
     "execution_count": 40,
     "metadata": {},
     "output_type": "execute_result"
    }
   ],
   "source": [
    "sys.platform"
   ]
  },
  {
   "cell_type": "markdown",
   "metadata": {},
   "source": [
    "### Adding command line arguments to a script\n",
    "Here the command line arguments reflect that we're running a Juptyer Notebook. \n",
    "\n",
    "In a python script, command line arguments are listed after the first item in the list."
   ]
  },
  {
   "cell_type": "code",
   "execution_count": 41,
   "metadata": {
    "execution": {
     "iopub.execute_input": "2025-09-24T19:48:57.495529Z",
     "iopub.status.busy": "2025-09-24T19:48:57.495398Z",
     "iopub.status.idle": "2025-09-24T19:48:57.498480Z",
     "shell.execute_reply": "2025-09-24T19:48:57.497975Z"
    }
   },
   "outputs": [
    {
     "data": {
      "text/plain": [
       "['/home/runner/micromamba/envs/pyclass-docs/lib/python3.11/site-packages/ipykernel_launcher.py',\n",
       " '-f',\n",
       " '/tmp/tmpq4o60jna.json',\n",
       " '--HistoryManager.hist_file=:memory:']"
      ]
     },
     "execution_count": 41,
     "metadata": {},
     "output_type": "execute_result"
    }
   ],
   "source": [
    "sys.argv"
   ]
  },
  {
   "cell_type": "markdown",
   "metadata": {
    "jp-MarkdownHeadingCollapsed": true
   },
   "source": [
    "### Exercise: Make a script with a command line argument using sys.argv\n",
    "\n",
    "1) Using a text editor such as VSCode, make a new ``*.py`` file with the following contents:\n",
    "\n",
    "```python\n",
    "import sys\n",
    "\n",
    "if len(sys.argv) > 1:\n",
    "    for argument in sys.argv[1:]:\n",
    "        print(argument)\n",
    "else:\n",
    "    print(\"usage is: python <script name>.py argument\")\n",
    "    quit()\n",
    "```\n",
    "\n",
    "2) Try running the script at the command line"
   ]
  },
  {
   "cell_type": "markdown",
   "metadata": {},
   "source": [
    "### modifying the python path\n",
    "\n",
    "If you haven't seen `sys.path` already mentioned in a python script, you will soon.  `sys.path` is a list of directories.  This path list is used by python to search for python modules and packages.  If for some reason, you want to use a python package or  module that is not installed in the main python folder, you can add the directory containing your module to sys.path.\n",
    "\n",
    "Any packages installed by linking the source code in place (i.e. ``pip install -e .`` will also show up here."
   ]
  },
  {
   "cell_type": "code",
   "execution_count": 42,
   "metadata": {
    "execution": {
     "iopub.execute_input": "2025-09-24T19:48:57.499861Z",
     "iopub.status.busy": "2025-09-24T19:48:57.499689Z",
     "iopub.status.idle": "2025-09-24T19:48:57.502216Z",
     "shell.execute_reply": "2025-09-24T19:48:57.501817Z"
    }
   },
   "outputs": [
    {
     "name": "stdout",
     "output_type": "stream",
     "text": [
      "/home/runner/micromamba/envs/pyclass-docs/lib/python311.zip\n",
      "/home/runner/micromamba/envs/pyclass-docs/lib/python3.11\n",
      "/home/runner/micromamba/envs/pyclass-docs/lib/python3.11/lib-dynload\n",
      "\n",
      "/home/runner/micromamba/envs/pyclass-docs/lib/python3.11/site-packages\n"
     ]
    }
   ],
   "source": [
    "for pth in sys.path:\n",
    "    print(pth)"
   ]
  },
  {
   "cell_type": "markdown",
   "metadata": {},
   "source": [
    "### Using ``sys.path`` to import code from an arbitrary location\n",
    "\n",
    "1) Using a text editor such as VSCode (or ``pathlib`` and python) make a new ``*.py`` file in another folder (anything in the same folder as this notebook can already be imported). For example:"
   ]
  },
  {
   "cell_type": "code",
   "execution_count": 43,
   "metadata": {
    "execution": {
     "iopub.execute_input": "2025-09-24T19:48:57.503562Z",
     "iopub.status.busy": "2025-09-24T19:48:57.503414Z",
     "iopub.status.idle": "2025-09-24T19:48:57.506454Z",
     "shell.execute_reply": "2025-09-24T19:48:57.505961Z"
    }
   },
   "outputs": [],
   "source": [
    "subfolder = Path('another_subfolder/scripts')\n",
    "subfolder.mkdir(exist_ok=True, parents=True)\n",
    "\n",
    "with open(subfolder / 'mycode.py', 'w') as dest:\n",
    "    dest.write(\"stuff = {'this is': 'a dictionary'}\")"
   ]
  },
  {
   "cell_type": "markdown",
   "metadata": {},
   "source": [
    "Now add this folder to the python path"
   ]
  },
  {
   "cell_type": "code",
   "execution_count": 44,
   "metadata": {
    "execution": {
     "iopub.execute_input": "2025-09-24T19:48:57.507996Z",
     "iopub.status.busy": "2025-09-24T19:48:57.507856Z",
     "iopub.status.idle": "2025-09-24T19:48:57.509943Z",
     "shell.execute_reply": "2025-09-24T19:48:57.509536Z"
    }
   },
   "outputs": [],
   "source": [
    "sys.path.append('another_subfolder/scripts')"
   ]
  },
  {
   "cell_type": "markdown",
   "metadata": {},
   "source": [
    "Code can be imported by calling the containing module"
   ]
  },
  {
   "cell_type": "code",
   "execution_count": 45,
   "metadata": {
    "execution": {
     "iopub.execute_input": "2025-09-24T19:48:57.511253Z",
     "iopub.status.busy": "2025-09-24T19:48:57.511121Z",
     "iopub.status.idle": "2025-09-24T19:48:57.514759Z",
     "shell.execute_reply": "2025-09-24T19:48:57.514276Z"
    }
   },
   "outputs": [
    {
     "data": {
      "text/plain": [
       "{'this is': 'a dictionary'}"
      ]
     },
     "execution_count": 45,
     "metadata": {},
     "output_type": "execute_result"
    }
   ],
   "source": [
    "from mycode import stuff\n",
    "\n",
    "stuff"
   ]
  },
  {
   "cell_type": "markdown",
   "metadata": {},
   "source": [
    "**Note**: Generally, importing code using ``sys.path`` is often considered bad practice, because \n",
    "\n",
    "* it can hide dependencies.    \n",
    "\n",
    "    * from the information above, we don't know whether ``mycode`` is a package that is installed, a module in the current folder, or anywhere else for that matter.\n",
    "    * Similarly, we know that any modules from ``'another_subfolder/scripts'`` can be imported, but we don't know which modules in that folder are needed without some additional checking.\n",
    "\n",
    "* importing code using ``sys.path`` is also sensitive to the location of the script relative to the path. If the script is moved or used on someone else's computer with a different file structure, it'll break.\n",
    "\n",
    "* this all said, sometimes using ``sys.path`` is expedient in reproducible workflows in that it can allow code to be consolidated and re-used across multiple scripts in various locations\n",
    "\n",
    "For code that is useful across multiple projects, [installing reusable code in a package can be the best way to go](https://learn.scientific-python.org/development/tutorials/). Packages provide a framework for organizing, documenting, testing and sharing code in a way that is easily understood by others.\n",
    "\n",
    "Whatever you do, avoid importing with an `*` (i.e. ``from mycode import *``) at all costs. This imports everything from the namespace of a module, which can lead to unintended consequences."
   ]
  },
  {
   "cell_type": "markdown",
   "metadata": {},
   "source": [
    "## ``os`` — Miscellaneous operating system interfaces¶\n",
    "Historically, the ``os.path`` module was the de facto standard for file and path manipulation. Since python 3.4 however, ``pathlib`` is generally cleaner and easier to use for most of these operations. But there are some exceptions.\n",
    "\n",
    "### Changing the current working directory\n",
    "``pathlib`` doesn't do this.   \n",
    "Note: this can obviously lead to trouble in scripts, so should usually be avoided, but sometimes it is necessary. In groundwater modeling workflows, for example, this can help keep flow and transport model files organized in separate folders."
   ]
  },
  {
   "cell_type": "code",
   "execution_count": 46,
   "metadata": {
    "execution": {
     "iopub.execute_input": "2025-09-24T19:48:57.516092Z",
     "iopub.status.busy": "2025-09-24T19:48:57.515944Z",
     "iopub.status.idle": "2025-09-24T19:48:57.519263Z",
     "shell.execute_reply": "2025-09-24T19:48:57.518751Z"
    }
   },
   "outputs": [
    {
     "name": "stdout",
     "output_type": "stream",
     "text": [
      "Now in:  /home/runner/work/python-for-hydrology/python-for-hydrology/docs/source/notebooks\n",
      "Switched back to:  /home/runner/work/python-for-hydrology/python-for-hydrology/docs/source/notebooks/part0_python_intro\n"
     ]
    }
   ],
   "source": [
    "# Example of changing the working directory\n",
    "old_wd = os.getcwd()\n",
    "\n",
    "# Go up one directory\n",
    "os.chdir('..')\n",
    "cwd = os.getcwd()\n",
    "print ('Now in: ', cwd)\n",
    "\n",
    "# Change back to original\n",
    "os.chdir(old_wd)\n",
    "cwd = os.getcwd()\n",
    "print('Switched back to: ', cwd)"
   ]
  },
  {
   "cell_type": "markdown",
   "metadata": {},
   "source": [
    "### os.walk\n",
    "\n",
    "os.walk() is a great way to recursively generate all the file names and folders in a directory.  The following shows how it can be used to identify large directories."
   ]
  },
  {
   "cell_type": "code",
   "execution_count": 47,
   "metadata": {
    "execution": {
     "iopub.execute_input": "2025-09-24T19:48:57.520631Z",
     "iopub.status.busy": "2025-09-24T19:48:57.520492Z",
     "iopub.status.idle": "2025-09-24T19:48:57.527850Z",
     "shell.execute_reply": "2025-09-24T19:48:57.527397Z"
    }
   },
   "outputs": [
    {
     "data": {
      "text/plain": [
       "[('..', ['part0_python_intro', 'part1_flopy'], []),\n",
       " ('../part0_python_intro',\n",
       "  ['another_subfolder', 'data', 'solutions'],\n",
       "  ['10b_Rasterio_advanced.ipynb',\n",
       "   '00_python_basics_review.ipynb',\n",
       "   '03_useful-std-library-modules.ipynb',\n",
       "   '05_numpy.ipynb',\n",
       "   '11_xarray_mt_rainier_precip.ipynb',\n",
       "   '10a_Rasterio_intro.ipynb',\n",
       "   '07b_VSCode.md',\n",
       "   '09_b_Geopandas_ABQ.ipynb',\n",
       "   '06b_matplotlib_animation.ipynb',\n",
       "   '09_a_Geopandas.ipynb']),\n",
       " ('../part0_python_intro/another_subfolder', ['scripts'], []),\n",
       " ('../part0_python_intro/another_subfolder/scripts',\n",
       "  ['__pycache__'],\n",
       "  ['mycode.py']),\n",
       " ('../part0_python_intro/another_subfolder/scripts/__pycache__',\n",
       "  [],\n",
       "  ['mycode.cpython-311.pyc']),\n",
       " ('../part0_python_intro/data',\n",
       "  ['xarray', 'rasterio', 'pandas', 'geopandas', 'numpy', 'fileio'],\n",
       "  ['dream.txt', 'theis_charles_vernon.jpg', 'netcdf_data.zip']),\n",
       " ('../part0_python_intro/data/xarray',\n",
       "  [],\n",
       "  ['daymet_prcp_rainier_1980-2018.nc',\n",
       "   'aligned-19700901_ned1_2003_adj_4269.tif']),\n",
       " ('../part0_python_intro/data/rasterio',\n",
       "  [],\n",
       "  ['20150818_rainier_summer-tile-30.tif',\n",
       "   'white_river_huc12.dbf',\n",
       "   'white_river_huc12.prj',\n",
       "   'white_river_huc12.shx',\n",
       "   'rgi60_glacierpoly_rainier.shp',\n",
       "   'white_river_huc12.shp',\n",
       "   '19700901_ned1_2003_adj_warp.tif',\n",
       "   'rgi60_glacierpoly_rainier.dbf',\n",
       "   'rgi60_glacierpoly_rainier.shx',\n",
       "   '20080901_rainierlidar_30m-adj.tif',\n",
       "   'xyrowcol.png',\n",
       "   'rgi60_glacierpoly_rainier.prj']),\n",
       " ('../part0_python_intro/data/pandas',\n",
       "  [],\n",
       "  ['site_info.csv',\n",
       "   'RR_gage_data.csv',\n",
       "   'RussianRiverGWsites.csv',\n",
       "   'stock_russian.jpg',\n",
       "   'santa_rosa_CIMIS_83.csv',\n",
       "   'panda.jpg']),\n",
       " ('../part0_python_intro/data/geopandas',\n",
       "  ['abq'],\n",
       "  ['Neighborhood_Associations.geojson',\n",
       "   'Madison_Tree_Species_Lookup.xlsx',\n",
       "   'Street_Trees.geojson',\n",
       "   'Madison_Parks.geojson']),\n",
       " ('../part0_python_intro/data/geopandas/abq',\n",
       "  [],\n",
       "  ['zoneatlaspagegrid.kmz', 'abq_films.geojson']),\n",
       " ('../part0_python_intro/data/numpy',\n",
       "  [],\n",
       "  ['mt_st_helens_after.dat',\n",
       "   'bottom.dat',\n",
       "   'mt_st_helens_before.dat',\n",
       "   'bottom.txt',\n",
       "   'bottom_commented.dat',\n",
       "   'ahf.csv']),\n",
       " ('../part0_python_intro/data/fileio',\n",
       "  [],\n",
       "  ['friends.txt', 'FileWithComments.txt']),\n",
       " ('../part0_python_intro/solutions',\n",
       "  [],\n",
       "  ['01_functions_script__solution.ipynb',\n",
       "   '09_Geopandas__solutions.ipynb',\n",
       "   '08_pandas.ipynb',\n",
       "   '02_Namespace_objects_modules_packages__solution.ipynb',\n",
       "   '05_numpy__solutions.ipynb',\n",
       "   '04_files_and_strings.ipynb',\n",
       "   '03_useful-std-library-modules-solutions.ipynb',\n",
       "   '06_matplotlib__solution.ipynb',\n",
       "   '07a_Theis-exercise-solution.ipynb']),\n",
       " ('../part1_flopy',\n",
       "  ['data', 'data_project', 'solutions'],\n",
       "  ['basin.py',\n",
       "   '05_Unstructured_Grid_generation.ipynb',\n",
       "   '10a_prt_particle_tracking-demo.ipynb',\n",
       "   '08_Modflow-setup-demo.ipynb',\n",
       "   '09-gwt-voronoi-demo.ipynb',\n",
       "   '10b_modpath_particle_tracking-demo.ipynb',\n",
       "   '01-Flopy-intro.ipynb']),\n",
       " ('../part1_flopy/data',\n",
       "  ['modelgrid_intersection',\n",
       "   'voronoi',\n",
       "   'pleasant-lake',\n",
       "   'quadtree',\n",
       "   'depletion_results',\n",
       "   'unstructured_grid_data'],\n",
       "  ['flopylogo_sm.png', 'pleasant_lgr_inset.yml', 'pleasant_lgr_parent.yml']),\n",
       " ('../part1_flopy/data/modelgrid_intersection',\n",
       "  [],\n",
       "  ['sagehen_main_nhd.shp',\n",
       "   'prcp.tif',\n",
       "   'sagehen_main_nhd.shx',\n",
       "   'sagehen_nhd.dbf',\n",
       "   'sagehen_basin.shp',\n",
       "   'sagehen_main_nhd.dbf',\n",
       "   'active_area.prj',\n",
       "   'active_area.shp',\n",
       "   'sagehen_gage_data.csv',\n",
       "   'active_area.shx',\n",
       "   'dem_30m.img',\n",
       "   'sagehen_main_nhd.cpg',\n",
       "   'sagehen_basin.shx',\n",
       "   'sagehen_basin.prj',\n",
       "   'refined_area.shx',\n",
       "   'refined_area.dbf',\n",
       "   'sagehen_nhd.shx',\n",
       "   'refined_area.shp',\n",
       "   'sagehen_basin.dbf',\n",
       "   'trib_cells.txt',\n",
       "   'sagehen_basin.cpg',\n",
       "   'sagehen_nhd.shp',\n",
       "   'active_area.dbf',\n",
       "   'ksat.img',\n",
       "   'sagehen_nhd.prj',\n",
       "   'pet.txt',\n",
       "   'sagehen_nhd.cpg',\n",
       "   'refined_area.prj',\n",
       "   'pet.tif',\n",
       "   'sagehen_main_nhd.prj']),\n",
       " ('../part1_flopy/data/voronoi',\n",
       "  ['grid'],\n",
       "  ['mfsim.nam',\n",
       "   'project.ic',\n",
       "   'project.disv.grb',\n",
       "   'project.disv',\n",
       "   'project.npf',\n",
       "   'mfsim.lst',\n",
       "   'project.wel',\n",
       "   'project.oc',\n",
       "   'project.hds',\n",
       "   'project.tdis',\n",
       "   'sfr_obs.csv',\n",
       "   'project.sfr.obs',\n",
       "   'project.ims',\n",
       "   'project.chd',\n",
       "   'project.cbc',\n",
       "   'project.rcha',\n",
       "   'project.sfr',\n",
       "   'project.lst',\n",
       "   'project.nam']),\n",
       " ('../part1_flopy/data/voronoi/grid',\n",
       "  [],\n",
       "  ['_triangle.1.poly',\n",
       "   '_triangle.0.node',\n",
       "   '_triangle.1.ele',\n",
       "   '_triangle.1.neigh',\n",
       "   '_triangle.1.edge',\n",
       "   '_triangle.0.poly',\n",
       "   '_triangle.1.node']),\n",
       " ('../part1_flopy/data/pleasant-lake',\n",
       "  ['external', 'source_data'],\n",
       "  ['pleasant.dis',\n",
       "   'mfsim.nam',\n",
       "   'pleasant.tdis',\n",
       "   'pleasant.npf',\n",
       "   'pleasant.ic',\n",
       "   'pleasant.oc',\n",
       "   'pleasant.sfr',\n",
       "   'pleasant.obs',\n",
       "   'pleasant.rcha',\n",
       "   'pleasant.sfr.obs',\n",
       "   'pleasant.hds',\n",
       "   'pleasant.chd',\n",
       "   'pleasant.wel',\n",
       "   'pleasant.lak.obs',\n",
       "   'pleasant.nam',\n",
       "   'pleasant.ims',\n",
       "   'pleasant.chd.obs',\n",
       "   'pleasant.sto',\n",
       "   'pleasant.lak']),\n",
       " ('../part1_flopy/data/pleasant-lake/external',\n",
       "  [],\n",
       "  ['k33_002.dat',\n",
       "   'chd_008.dat',\n",
       "   'wel_000.dat',\n",
       "   'k33_001.dat',\n",
       "   'ss_002.dat',\n",
       "   'strt_003.dat',\n",
       "   'wel_006.dat',\n",
       "   'chd_004.dat',\n",
       "   'rch_008.dat',\n",
       "   'rch_006.dat',\n",
       "   'chd_002.dat',\n",
       "   'chd_000.dat',\n",
       "   'botm_002.dat',\n",
       "   'k_002.dat',\n",
       "   'sy_002.dat',\n",
       "   'wel_010.dat',\n",
       "   'strt_002.dat',\n",
       "   'k_000.dat',\n",
       "   'botm_003.dat',\n",
       "   'chd_012.dat',\n",
       "   '600059060_stage_area_volume.dat',\n",
       "   'sy_000.dat',\n",
       "   'k_003.dat',\n",
       "   'rch_005.dat',\n",
       "   'chd_010.dat',\n",
       "   'sy_003.dat',\n",
       "   'k33_000.dat',\n",
       "   'strt_000.dat',\n",
       "   'wel_004.dat',\n",
       "   'rch_009.dat',\n",
       "   'rch_010.dat',\n",
       "   'chd_005.dat',\n",
       "   'rch_001.dat',\n",
       "   'k_001.dat',\n",
       "   'ss_000.dat',\n",
       "   'irch.dat',\n",
       "   'wel_008.dat',\n",
       "   'wel_009.dat',\n",
       "   'sy_001.dat',\n",
       "   'chd_003.dat',\n",
       "   'rch_002.dat',\n",
       "   'rch_004.dat',\n",
       "   'chd_007.dat',\n",
       "   'wel_001.dat',\n",
       "   'wel_007.dat',\n",
       "   'chd_009.dat',\n",
       "   'chd_006.dat',\n",
       "   'k33_003.dat',\n",
       "   'ss_001.dat',\n",
       "   'rch_003.dat',\n",
       "   'idomain_003.dat',\n",
       "   'top.dat',\n",
       "   'ss_003.dat',\n",
       "   'strt_001.dat',\n",
       "   'rch_000.dat',\n",
       "   'rch_007.dat',\n",
       "   'chd_011.dat',\n",
       "   'idomain_002.dat',\n",
       "   'chd_001.dat',\n",
       "   'pleasant_top.dat.original',\n",
       "   'idomain_000.dat',\n",
       "   'botm_001.dat',\n",
       "   'pleasant_packagedata.dat',\n",
       "   'botm_000.dat',\n",
       "   'idomain_001.dat',\n",
       "   'rch_012.dat',\n",
       "   'wel_005.dat',\n",
       "   'rch_011.dat']),\n",
       " ('../part1_flopy/data/pleasant-lake/source_data',\n",
       "  ['rasters', 'tables', 'shps'],\n",
       "  ['PRISM_ppt_tmean_stable_4km_189501_201901_43.9850_-89.5522.csv']),\n",
       " ('../part1_flopy/data/pleasant-lake/source_data/rasters',\n",
       "  [],\n",
       "  ['botm0.tif',\n",
       "   'botm2.tif',\n",
       "   'pleasant_bathymetry.tif',\n",
       "   'botm1.tif',\n",
       "   'dem40m.tif',\n",
       "   'botm3.tif']),\n",
       " ('../part1_flopy/data/pleasant-lake/source_data/tables',\n",
       "  [],\n",
       "  ['lake_sites.csv',\n",
       "   'area_stage_vol_Pleasant.csv',\n",
       "   'wdnr_gw_sites.csv',\n",
       "   'nwis_heads_info_file.csv',\n",
       "   'gages.csv',\n",
       "   'wgnhs_head_targets.csv',\n",
       "   'uwsp_heads.csv']),\n",
       " ('../part1_flopy/data/pleasant-lake/source_data/shps',\n",
       "  ['NHDSnapshot', 'NHDPlusAttributes'],\n",
       "  ['all_lakes.dbf',\n",
       "   'all_lakes.prj',\n",
       "   'all_lakes.shp',\n",
       "   'all_lakes.cpg',\n",
       "   'all_lakes.shx']),\n",
       " ('../part1_flopy/data/pleasant-lake/source_data/shps/NHDSnapshot',\n",
       "  ['Hydrography'],\n",
       "  []),\n",
       " ('../part1_flopy/data/pleasant-lake/source_data/shps/NHDSnapshot/Hydrography',\n",
       "  [],\n",
       "  ['NHDFlowline.prj',\n",
       "   'NHDFlowline.shp',\n",
       "   'NHDFlowline.cpg',\n",
       "   'NHDFlowline.shx',\n",
       "   'NHDFlowline.dbf']),\n",
       " ('../part1_flopy/data/pleasant-lake/source_data/shps/NHDPlusAttributes',\n",
       "  [],\n",
       "  ['PlusFlow.cpg',\n",
       "   'PlusFlow.dbf',\n",
       "   'PlusFlowlineVAA.dbf',\n",
       "   'PlusFlowlineVAA.cpg',\n",
       "   'elevslope.cpg',\n",
       "   'elevslope.dbf']),\n",
       " ('../part1_flopy/data/quadtree',\n",
       "  ['grid'],\n",
       "  ['mfsim.nam',\n",
       "   'project.ic',\n",
       "   'project.disv.grb',\n",
       "   'project.disv',\n",
       "   'project.npf',\n",
       "   'mfsim.lst',\n",
       "   'project.wel',\n",
       "   'project.oc',\n",
       "   'project.hds',\n",
       "   'project.tdis',\n",
       "   'sfr_obs.csv',\n",
       "   'project.sfr.obs',\n",
       "   'project.ims',\n",
       "   'project.chd',\n",
       "   'project.cbc',\n",
       "   'project.rcha',\n",
       "   'project.sfr',\n",
       "   'project.lst',\n",
       "   'project.nam']),\n",
       " ('../part1_flopy/data/quadtree/grid',\n",
       "  [],\n",
       "  ['quadtreegrid.bot1.dat',\n",
       "   'qtgrid_pt.shx',\n",
       "   'qtg.ia.dat',\n",
       "   'qtg_sv.vtu',\n",
       "   'qtg.fldr.dat',\n",
       "   'qtg.ja.dat',\n",
       "   'qtg.vtu',\n",
       "   'qtg.area.dat',\n",
       "   'quadtreegrid.dfn',\n",
       "   'qtgrid_pt.dbf',\n",
       "   'qtgrid_pt.shp',\n",
       "   'quadtreegrid.top1.dat',\n",
       "   'qtgrid.dbf',\n",
       "   '_gridgen_export.dfn',\n",
       "   'qtg.c1.dat',\n",
       "   'quadtreegrid.tsf',\n",
       "   'qtg.nod',\n",
       "   'qtg.fahl.dat',\n",
       "   'qtg.iac.dat',\n",
       "   'qtg.c2.dat',\n",
       "   'qtg.nodesperlay.dat',\n",
       "   'qtgrid.shx',\n",
       "   'qtg.gnc.dat',\n",
       "   'qtgrid.shp',\n",
       "   '_gridgen_build.dfn']),\n",
       " ('../part1_flopy/data/depletion_results', [], ['depletion_results.csv']),\n",
       " ('../part1_flopy/data/unstructured_grid_data',\n",
       "  [],\n",
       "  ['lgr_bound.prj',\n",
       "   'black_earth_basin.dbf',\n",
       "   'nhd_streams.dbf',\n",
       "   'dem.img',\n",
       "   'gage_info.shx',\n",
       "   'gage_info.shp',\n",
       "   'lgr_bound.shp',\n",
       "   'nhd_streams.shx',\n",
       "   'black_earth_creek_main.dbf',\n",
       "   'black_earth_basin.prj',\n",
       "   'lgr_bound.dbf',\n",
       "   'black_earth_basin.shx',\n",
       "   'black_earth_creek_main.prj',\n",
       "   'black_earth_basin.shp',\n",
       "   'black_earth_creek_main.shx',\n",
       "   'gage_info.dbf',\n",
       "   'nhd_streams.prj',\n",
       "   'lgr_bound.shx',\n",
       "   'black_earth_creek_main.shp',\n",
       "   'nhd_streams.shp',\n",
       "   'gage_info.prj']),\n",
       " ('../part1_flopy/data_project',\n",
       "  [],\n",
       "  ['pumping_well_locations.dbf',\n",
       "   'Flowline_river.shx',\n",
       "   'aquifer_bottom.asc',\n",
       "   'active_area.shp',\n",
       "   'aquifer_k.asc',\n",
       "   'active_area.shx',\n",
       "   'aquifer_top.asc',\n",
       "   'Flowline_river.dbf',\n",
       "   'inactive_area.dbf',\n",
       "   'pumping_well_locations.shp',\n",
       "   'inactive_area.shx',\n",
       "   'pumping_well_locations.shx',\n",
       "   'Flowline_river.shp',\n",
       "   'active_area.dbf',\n",
       "   'inactive_area.shp',\n",
       "   'Flowline_river.prj']),\n",
       " ('../part1_flopy/solutions',\n",
       "  [],\n",
       "  ['03_Loading_and_visualizing_models-solutions.ipynb',\n",
       "   '07-stream_capture_voronoi.ipynb',\n",
       "   '06-Project-voronoi.ipynb',\n",
       "   '02-Building-Post-Processing-MODFLOW6__solutions.ipynb',\n",
       "   '06-Project-quadtree.ipynb',\n",
       "   '04_Modelgrid_and_intersection_solution.ipynb',\n",
       "   '06-Project-structured_completed.ipynb'])]"
      ]
     },
     "execution_count": 47,
     "metadata": {},
     "output_type": "execute_result"
    }
   ],
   "source": [
    "pth = Path('..')\n",
    "results = list(os.walk(pth))\n",
    "results"
   ]
  },
  {
   "cell_type": "markdown",
   "metadata": {},
   "source": [
    "#### Make a more readable list of just the jupyter notebooks\n",
    "Note: the key advantage of ``os.walk`` over ``glob`` is the recursion-- individual subfolder levels don't need to be known or specified a priori."
   ]
  },
  {
   "cell_type": "code",
   "execution_count": 48,
   "metadata": {
    "execution": {
     "iopub.execute_input": "2025-09-24T19:48:57.529175Z",
     "iopub.status.busy": "2025-09-24T19:48:57.529041Z",
     "iopub.status.idle": "2025-09-24T19:48:57.534427Z",
     "shell.execute_reply": "2025-09-24T19:48:57.534024Z"
    }
   },
   "outputs": [
    {
     "name": "stdout",
     "output_type": "stream",
     "text": [
      "../part0_python_intro/10b_Rasterio_advanced.ipynb\n",
      "../part0_python_intro/00_python_basics_review.ipynb\n",
      "../part0_python_intro/03_useful-std-library-modules.ipynb\n",
      "../part0_python_intro/05_numpy.ipynb\n",
      "../part0_python_intro/11_xarray_mt_rainier_precip.ipynb\n",
      "../part0_python_intro/10a_Rasterio_intro.ipynb\n",
      "../part0_python_intro/09_b_Geopandas_ABQ.ipynb\n",
      "../part0_python_intro/06b_matplotlib_animation.ipynb\n",
      "../part0_python_intro/09_a_Geopandas.ipynb\n",
      "../part0_python_intro/solutions/01_functions_script__solution.ipynb\n",
      "../part0_python_intro/solutions/09_Geopandas__solutions.ipynb\n",
      "../part0_python_intro/solutions/08_pandas.ipynb\n",
      "../part0_python_intro/solutions/02_Namespace_objects_modules_packages__solution.ipynb\n",
      "../part0_python_intro/solutions/05_numpy__solutions.ipynb\n",
      "../part0_python_intro/solutions/04_files_and_strings.ipynb\n",
      "../part0_python_intro/solutions/03_useful-std-library-modules-solutions.ipynb\n",
      "../part0_python_intro/solutions/06_matplotlib__solution.ipynb\n",
      "../part0_python_intro/solutions/07a_Theis-exercise-solution.ipynb\n",
      "../part1_flopy/05_Unstructured_Grid_generation.ipynb\n",
      "../part1_flopy/10a_prt_particle_tracking-demo.ipynb\n",
      "../part1_flopy/08_Modflow-setup-demo.ipynb\n",
      "../part1_flopy/09-gwt-voronoi-demo.ipynb\n",
      "../part1_flopy/10b_modpath_particle_tracking-demo.ipynb\n",
      "../part1_flopy/01-Flopy-intro.ipynb\n",
      "../part1_flopy/solutions/03_Loading_and_visualizing_models-solutions.ipynb\n",
      "../part1_flopy/solutions/07-stream_capture_voronoi.ipynb\n",
      "../part1_flopy/solutions/06-Project-voronoi.ipynb\n",
      "../part1_flopy/solutions/02-Building-Post-Processing-MODFLOW6__solutions.ipynb\n",
      "../part1_flopy/solutions/06-Project-quadtree.ipynb\n",
      "../part1_flopy/solutions/04_Modelgrid_and_intersection_solution.ipynb\n",
      "../part1_flopy/solutions/06-Project-structured_completed.ipynb\n"
     ]
    }
   ],
   "source": [
    "for root, dirs, files in os.walk(pth):\n",
    "    for f in files:\n",
    "        filepath = Path(root, f)\n",
    "        if filepath.suffix == '.ipynb':\n",
    "            print(filepath)"
   ]
  },
  {
   "cell_type": "markdown",
   "metadata": {},
   "source": [
    "### Accessing environmental variables"
   ]
  },
  {
   "cell_type": "code",
   "execution_count": 49,
   "metadata": {
    "execution": {
     "iopub.execute_input": "2025-09-24T19:48:57.535704Z",
     "iopub.status.busy": "2025-09-24T19:48:57.535569Z",
     "iopub.status.idle": "2025-09-24T19:48:57.540269Z",
     "shell.execute_reply": "2025-09-24T19:48:57.539878Z"
    }
   },
   "outputs": [
    {
     "data": {
      "text/plain": [
       "environ{'GITHUB_STATE': '/home/runner/work/_temp/_runner_file_commands/save_state_2a107f7a-4ff9-47c0-a30c-13a5f54991b1',\n",
       "        'CONDA_PROMPT_MODIFIER': '(pyclass-docs) ',\n",
       "        'DOTNET_NOLOGO': '1',\n",
       "        'USER': 'runner',\n",
       "        'CI': 'true',\n",
       "        'GITHUB_ENV': '/home/runner/work/_temp/_runner_file_commands/set_env_2a107f7a-4ff9-47c0-a30c-13a5f54991b1',\n",
       "        'PIPX_HOME': '/opt/pipx',\n",
       "        'RUNNER_ENVIRONMENT': 'github-hosted',\n",
       "        'JAVA_HOME_8_X64': '/usr/lib/jvm/temurin-8-jdk-amd64',\n",
       "        'SHLVL': '1',\n",
       "        'CONDA_SHLVL': '1',\n",
       "        'HOME': '/home/runner',\n",
       "        'RUNNER_TEMP': '/home/runner/work/_temp',\n",
       "        'GITHUB_EVENT_PATH': '/home/runner/work/_temp/_github_workflow/event.json',\n",
       "        'GITHUB_REPOSITORY_OWNER': 'mnfienen',\n",
       "        'JAVA_HOME_11_X64': '/usr/lib/jvm/temurin-11-jdk-amd64',\n",
       "        'PIPX_BIN_DIR': '/opt/pipx_bin',\n",
       "        'ANDROID_NDK_LATEST_HOME': '/usr/local/lib/android/sdk/ndk/28.2.13676358',\n",
       "        'GRADLE_HOME': '/usr/share/gradle-9.0.0',\n",
       "        'GITHUB_RETENTION_DAYS': '90',\n",
       "        'JAVA_HOME_21_X64': '/usr/lib/jvm/temurin-21-jdk-amd64',\n",
       "        'POWERSHELL_DISTRIBUTION_CHANNEL': 'GitHub-Actions-ubuntu24',\n",
       "        'CPL_ZIP_ENCODING': 'UTF-8',\n",
       "        'GITHUB_HEAD_REF': '',\n",
       "        'GITHUB_REPOSITORY_OWNER_ID': '1110827',\n",
       "        'AZURE_EXTENSION_DIR': '/opt/az/azcliextensions',\n",
       "        'MAKEFLAGS': 'w',\n",
       "        'SYSTEMD_EXEC_PID': '1875',\n",
       "        'GITHUB_GRAPHQL_URL': 'https://api.github.com/graphql',\n",
       "        'NVM_DIR': '/home/runner/.nvm',\n",
       "        'DOTNET_SKIP_FIRST_TIME_EXPERIENCE': '1',\n",
       "        'JAVA_HOME_17_X64': '/usr/lib/jvm/temurin-17-jdk-amd64',\n",
       "        'ImageVersion': '20250907.24.1',\n",
       "        'RUNNER_OS': 'Linux',\n",
       "        'GITHUB_API_URL': 'https://api.github.com',\n",
       "        'LOGNAME': 'runner',\n",
       "        'SWIFT_PATH': '/usr/share/swift/usr/bin',\n",
       "        'GOROOT_1_22_X64': '/opt/hostedtoolcache/go/1.22.12/x64',\n",
       "        'GOROOT_1_23_X64': '/opt/hostedtoolcache/go/1.23.12/x64',\n",
       "        'CHROMEWEBDRIVER': '/usr/local/share/chromedriver-linux64',\n",
       "        '_': '/usr/bin/make',\n",
       "        'JOURNAL_STREAM': '9:10867',\n",
       "        'GITHUB_WORKFLOW': 'Publish Docs',\n",
       "        'MEMORY_PRESSURE_WATCH': '/sys/fs/cgroup/system.slice/hosted-compute-agent.service/memory.pressure',\n",
       "        'GOROOT_1_24_X64': '/opt/hostedtoolcache/go/1.24.7/x64',\n",
       "        'CONDARC': '/home/runner/work/_temp/setup-micromamba/.condarc',\n",
       "        'GITHUB_RUN_ID': '17987812846',\n",
       "        'ACTIONS_RUNNER_ACTION_ARCHIVE_CACHE': '/opt/actionarchivecache',\n",
       "        'GITHUB_WORKFLOW_SHA': 'b8855458a0c0ec4060f5da1734b750cf43420b0b',\n",
       "        'MODFLOW_BIN_PATH': '/home/runner/.local/bin',\n",
       "        'BOOTSTRAP_HASKELL_NONINTERACTIVE': '1',\n",
       "        'GITHUB_REF_TYPE': 'branch',\n",
       "        'ImageOS': 'ubuntu24',\n",
       "        'GITHUB_BASE_REF': '',\n",
       "        'GITHUB_ACTION_REPOSITORY': '',\n",
       "        'ENABLE_RUNNER_TRACING': 'true',\n",
       "        'GITHUB_WORKFLOW_REF': 'mnfienen/python-for-hydrology/.github/workflows/build_docs.yaml@refs/heads/main',\n",
       "        'PATH': '/home/runner/micromamba/envs/pyclass-docs/bin:/home/runner/micromamba/condabin:/home/runner/.local/bin:/home/runner/work/_temp/setup-micromamba:/home/runner/micromamba-bin:/snap/bin:/home/runner/.local/bin:/opt/pipx_bin:/home/runner/.cargo/bin:/home/runner/.config/composer/vendor/bin:/usr/local/.ghcup/bin:/home/runner/.dotnet/tools:/usr/local/sbin:/usr/local/bin:/usr/sbin:/usr/bin:/sbin:/bin:/usr/games:/usr/local/games:/snap/bin',\n",
       "        'RUNNER_TRACKING_ID': 'github_851fc744-124e-440b-9ed2-6d0527b95388',\n",
       "        'DOTNET_MULTILEVEL_LOOKUP': '0',\n",
       "        'INVOCATION_ID': 'a62856d916d04a90b06f8092c62eb535',\n",
       "        'PROJ_NETWORK': 'ON',\n",
       "        'RUNNER_TOOL_CACHE': '/opt/hostedtoolcache',\n",
       "        'ANT_HOME': '/usr/share/ant',\n",
       "        'GITHUB_TRIGGERING_ACTOR': 'mnfienen',\n",
       "        'GITHUB_RUN_NUMBER': '46',\n",
       "        'RUNNER_ARCH': 'X64',\n",
       "        'XDG_RUNTIME_DIR': '/run/user/1001',\n",
       "        'AGENT_TOOLSDIRECTORY': '/opt/hostedtoolcache',\n",
       "        'GITHUB_ACTION': '__run_7',\n",
       "        'PROJ_DATA': '/home/runner/micromamba/envs/pyclass-docs/share/proj',\n",
       "        'MAKELEVEL': '1',\n",
       "        'MAMBA_ROOT_PREFIX': '/home/runner/micromamba',\n",
       "        'LANG': 'C.UTF-8',\n",
       "        'DOTNET_BUNDLE_EXTRACT_BASE_DIR': '/home/runner/.cache/dotnet_bundle_extract',\n",
       "        'VCPKG_INSTALLATION_ROOT': '/usr/local/share/vcpkg',\n",
       "        'RUNNER_NAME': 'GitHub Actions 1000001102',\n",
       "        'GITHUB_REF_NAME': 'main',\n",
       "        'XDG_CONFIG_HOME': '/home/runner/.config',\n",
       "        'CONDA': '/usr/share/miniconda',\n",
       "        'GITHUB_REPOSITORY': 'mnfienen/python-for-hydrology',\n",
       "        'XML_CATALOG_FILES': 'file:///home/runner/micromamba/envs/pyclass-docs/etc/xml/catalog file:///etc/xml/catalog',\n",
       "        'GITHUB_ACTION_REF': '',\n",
       "        'ANDROID_NDK_ROOT': '/usr/local/lib/android/sdk/ndk/27.3.13750724',\n",
       "        'DEBIAN_FRONTEND': 'noninteractive',\n",
       "        'GSETTINGS_SCHEMA_DIR': '/home/runner/micromamba/envs/pyclass-docs/share/glib-2.0/schemas',\n",
       "        'GITHUB_REPOSITORY_ID': '751091673',\n",
       "        'SHELL': '/bin/bash',\n",
       "        'GITHUB_ACTIONS': 'true',\n",
       "        'GDAL_DRIVER_PATH': '/home/runner/micromamba/envs/pyclass-docs/lib/gdalplugins',\n",
       "        'GITHUB_REF_PROTECTED': 'false',\n",
       "        'ACCEPT_EULA': 'Y',\n",
       "        'GITHUB_JOB': 'docs',\n",
       "        'CONDA_DEFAULT_ENV': 'pyclass-docs',\n",
       "        'GITHUB_WORKSPACE': '/home/runner/work/python-for-hydrology/python-for-hydrology',\n",
       "        'GITHUB_SHA': 'b8855458a0c0ec4060f5da1734b750cf43420b0b',\n",
       "        'GITHUB_RUN_ATTEMPT': '1',\n",
       "        'GITHUB_REF': 'refs/heads/main',\n",
       "        'ANDROID_SDK_ROOT': '/usr/local/lib/android/sdk',\n",
       "        'MAMBA_EXE': '/home/runner/micromamba-bin/micromamba',\n",
       "        'GITHUB_ACTOR': 'mnfienen',\n",
       "        'JAVA_HOME': '/usr/lib/jvm/temurin-17-jdk-amd64',\n",
       "        'PWD': '/home/runner/work/python-for-hydrology/python-for-hydrology/docs',\n",
       "        'RUNNER_WORKSPACE': '/home/runner/work/python-for-hydrology',\n",
       "        'GITHUB_ACTOR_ID': '1110827',\n",
       "        'GITHUB_PATH': '/home/runner/work/_temp/_runner_file_commands/add_path_2a107f7a-4ff9-47c0-a30c-13a5f54991b1',\n",
       "        'GHCUP_INSTALL_BASE_PREFIX': '/usr/local',\n",
       "        'GITHUB_EVENT_NAME': 'push',\n",
       "        'XDG_DATA_DIRS': '/usr/local/share:/usr/share:/var/lib/snapd/desktop',\n",
       "        'GITHUB_SERVER_URL': 'https://github.com',\n",
       "        'ANDROID_HOME': '/usr/local/lib/android/sdk',\n",
       "        'GECKOWEBDRIVER': '/usr/local/share/gecko_driver',\n",
       "        'NVM_CD_FLAGS': '',\n",
       "        'HOMEBREW_CLEANUP_PERIODIC_FULL_DAYS': '3650',\n",
       "        'GITHUB_OUTPUT': '/home/runner/work/_temp/_runner_file_commands/set_output_2a107f7a-4ff9-47c0-a30c-13a5f54991b1',\n",
       "        'HOMEBREW_NO_AUTO_UPDATE': '1',\n",
       "        'EDGEWEBDRIVER': '/usr/local/share/edge_driver',\n",
       "        'SGX_AESM_ADDR': '1',\n",
       "        'CHROME_BIN': '/usr/bin/google-chrome',\n",
       "        'MFLAGS': '-w',\n",
       "        'CONDA_PREFIX': '/home/runner/micromamba/envs/pyclass-docs',\n",
       "        'ANDROID_NDK': '/usr/local/lib/android/sdk/ndk/27.3.13750724',\n",
       "        'GSETTINGS_SCHEMA_DIR_CONDA_BACKUP': '',\n",
       "        'MEMORY_PRESSURE_WRITE': 'c29tZSAyMDAwMDAgMjAwMDAwMAA=',\n",
       "        'SELENIUM_JAR_PATH': '/usr/share/java/selenium-server.jar',\n",
       "        'ANDROID_NDK_HOME': '/usr/local/lib/android/sdk/ndk/27.3.13750724',\n",
       "        'GDAL_DATA': '/home/runner/micromamba/envs/pyclass-docs/share/gdal',\n",
       "        'GITHUB_STEP_SUMMARY': '/home/runner/work/_temp/_runner_file_commands/step_summary_2a107f7a-4ff9-47c0-a30c-13a5f54991b1',\n",
       "        'DOCUTILSCONFIG': '/home/runner/work/python-for-hydrology/python-for-hydrology/docs/source/docutils.conf',\n",
       "        'JPY_PARENT_PID': '4336',\n",
       "        'PYDEVD_USE_FRAME_EVAL': 'NO',\n",
       "        'TERM': 'xterm-color',\n",
       "        'CLICOLOR': '1',\n",
       "        'FORCE_COLOR': '1',\n",
       "        'CLICOLOR_FORCE': '1',\n",
       "        'PAGER': 'cat',\n",
       "        'GIT_PAGER': 'cat',\n",
       "        'MPLBACKEND': 'module://matplotlib_inline.backend_inline'}"
      ]
     },
     "execution_count": 49,
     "metadata": {},
     "output_type": "execute_result"
    }
   ],
   "source": [
    "os.environ"
   ]
  },
  {
   "cell_type": "markdown",
   "metadata": {},
   "source": [
    "#### Example: get the location of the current python (Conda) environment"
   ]
  },
  {
   "cell_type": "code",
   "execution_count": 50,
   "metadata": {
    "execution": {
     "iopub.execute_input": "2025-09-24T19:48:57.541496Z",
     "iopub.status.busy": "2025-09-24T19:48:57.541362Z",
     "iopub.status.idle": "2025-09-24T19:48:57.544486Z",
     "shell.execute_reply": "2025-09-24T19:48:57.543989Z"
    }
   },
   "outputs": [
    {
     "data": {
      "text/plain": [
       "'/home/runner/micromamba/envs/pyclass-docs'"
      ]
     },
     "execution_count": 50,
     "metadata": {},
     "output_type": "execute_result"
    }
   ],
   "source": [
    "os.environ['CONDA_PREFIX']"
   ]
  },
  {
   "cell_type": "markdown",
   "metadata": {},
   "source": [
    "### Running system commands\n",
    "`os.system` provides a limited way to run system commands. For more flexibility, use `subprocess` (below)."
   ]
  },
  {
   "cell_type": "code",
   "execution_count": 51,
   "metadata": {
    "execution": {
     "iopub.execute_input": "2025-09-24T19:48:57.545916Z",
     "iopub.status.busy": "2025-09-24T19:48:57.545733Z",
     "iopub.status.idle": "2025-09-24T19:48:57.551522Z",
     "shell.execute_reply": "2025-09-24T19:48:57.551032Z"
    }
   },
   "outputs": [
    {
     "name": "stdout",
     "output_type": "stream",
     "text": [
      "total 276\n",
      "-rw-r--r-- 1 runner runner 32326 Sep 24 19:48 00_python_basics_review.ipynb\n",
      "-rw-r--r-- 1 runner runner 31027 Sep 24 19:48 03_useful-std-library-modules.ipynb\n",
      "-rw-r--r-- 1 runner runner 45695 Sep 24 19:48 05_numpy.ipynb\n",
      "-rw-r--r-- 1 runner runner  2460 Sep 24 19:48 06b_matplotlib_animation.ipynb\n",
      "-rw-r--r-- 1 runner runner 12297 Sep 24 19:48 07b_VSCode.md\n",
      "-rw-r--r-- 1 runner runner 27811 Sep 24 19:48 09_a_Geopandas.ipynb\n",
      "-rw-r--r-- 1 runner runner  9730 Sep 24 19:48 09_b_Geopandas_ABQ.ipynb\n",
      "-rw-r--r-- 1 runner runner 22961 Sep 24 19:48 10a_Rasterio_intro.ipynb\n",
      "-rw-r--r-- 1 runner runner 29620 Sep 24 19:48 10b_Rasterio_advanced.ipynb\n",
      "-rw-r--r-- 1 runner runner 35369 Sep 24 19:48 11_xarray_mt_rainier_precip.ipynb\n",
      "drwxr-xr-x 3 runner runner  4096 Sep 24 19:48 another_subfolder\n",
      "drwxr-xr-x 8 runner runner  4096 Sep 24 19:47 data\n",
      "drwxr-xr-x 2 runner runner  4096 Sep 24 19:48 solutions\n"
     ]
    },
    {
     "data": {
      "text/plain": [
       "0"
      ]
     },
     "execution_count": 51,
     "metadata": {},
     "output_type": "execute_result"
    }
   ],
   "source": [
    "os.system('ls -l')"
   ]
  },
  {
   "cell_type": "code",
   "execution_count": 52,
   "metadata": {
    "execution": {
     "iopub.execute_input": "2025-09-24T19:48:57.552896Z",
     "iopub.status.busy": "2025-09-24T19:48:57.552733Z",
     "iopub.status.idle": "2025-09-24T19:48:57.590566Z",
     "shell.execute_reply": "2025-09-24T19:48:57.590102Z"
    }
   },
   "outputs": [
    {
     "name": "stdout",
     "output_type": "stream",
     "text": [
      "00_python_basics_review.ipynb\t     10a_Rasterio_intro.ipynb\n",
      "03_useful-std-library-modules.ipynb  10b_Rasterio_advanced.ipynb\n",
      "05_numpy.ipynb\t\t\t     11_xarray_mt_rainier_precip.ipynb\n",
      "06b_matplotlib_animation.ipynb\t     another_subfolder\n",
      "07b_VSCode.md\t\t\t     data\n",
      "09_a_Geopandas.ipynb\t\t     solutions\n",
      "09_b_Geopandas_ABQ.ipynb\n"
     ]
    },
    {
     "data": {
      "text/plain": [
       "0"
      ]
     },
     "execution_count": 52,
     "metadata": {},
     "output_type": "execute_result"
    }
   ],
   "source": [
    "# on Windows\n",
    "os.system('dir')"
   ]
  },
  {
   "cell_type": "markdown",
   "metadata": {},
   "source": [
    "## ``subprocess`` — Subprocess management\n",
    "\n",
    "The subprocess module offers a way to execute system commands, for example MODFLOW, or any operating system command that you can type at the command line.\n",
    "\n",
    "The recommended approach to invoking subprocesses is to use the ``run()`` function for all use cases it can handle. For more advanced use cases, the underlying ``Popen`` interface can be used directly.\n",
    "\n",
    "Take a look at the following help descriptions for ``run``.\n",
    "\n",
    "Note, that on Windows, you may have to specify \"shell=True\" in order to access system commands."
   ]
  },
  {
   "cell_type": "code",
   "execution_count": 53,
   "metadata": {
    "execution": {
     "iopub.execute_input": "2025-09-24T19:48:57.591941Z",
     "iopub.status.busy": "2025-09-24T19:48:57.591758Z",
     "iopub.status.idle": "2025-09-24T19:48:57.594627Z",
     "shell.execute_reply": "2025-09-24T19:48:57.594156Z"
    }
   },
   "outputs": [
    {
     "name": "stdout",
     "output_type": "stream",
     "text": [
      "Help on function run in module subprocess:\n",
      "\n",
      "run(*popenargs, input=None, capture_output=False, timeout=None, check=False, **kwargs)\n",
      "    Run command with arguments and return a CompletedProcess instance.\n",
      "    \n",
      "    The returned instance will have attributes args, returncode, stdout and\n",
      "    stderr. By default, stdout and stderr are not captured, and those attributes\n",
      "    will be None. Pass stdout=PIPE and/or stderr=PIPE in order to capture them,\n",
      "    or pass capture_output=True to capture both.\n",
      "    \n",
      "    If check is True and the exit code was non-zero, it raises a\n",
      "    CalledProcessError. The CalledProcessError object will have the return code\n",
      "    in the returncode attribute, and output & stderr attributes if those streams\n",
      "    were captured.\n",
      "    \n",
      "    If timeout is given, and the process takes too long, a TimeoutExpired\n",
      "    exception will be raised.\n",
      "    \n",
      "    There is an optional argument \"input\", allowing you to\n",
      "    pass bytes or a string to the subprocess's stdin.  If you use this argument\n",
      "    you may not also use the Popen constructor's \"stdin\" argument, as\n",
      "    it will be used internally.\n",
      "    \n",
      "    By default, all communication is in bytes, and therefore any \"input\" should\n",
      "    be bytes, and the stdout and stderr will be bytes. If in text mode, any\n",
      "    \"input\" should be a string, and stdout and stderr will be strings decoded\n",
      "    according to locale encoding, or by \"encoding\" if set. Text mode is\n",
      "    triggered by setting any of text, encoding, errors or universal_newlines.\n",
      "    \n",
      "    The other arguments are the same as for the Popen constructor.\n",
      "\n"
     ]
    }
   ],
   "source": [
    "help(subprocess.run)"
   ]
  },
  {
   "cell_type": "code",
   "execution_count": 54,
   "metadata": {
    "execution": {
     "iopub.execute_input": "2025-09-24T19:48:57.595976Z",
     "iopub.status.busy": "2025-09-24T19:48:57.595824Z",
     "iopub.status.idle": "2025-09-24T19:48:57.600034Z",
     "shell.execute_reply": "2025-09-24T19:48:57.599538Z"
    }
   },
   "outputs": [
    {
     "name": "stdout",
     "output_type": "stream",
     "text": [
      "total 276\n",
      "-rw-r--r-- 1 runner runner 32326 Sep 24 19:48 00_python_basics_review.ipynb\n",
      "-rw-r--r-- 1 runner runner 31027 Sep 24 19:48 03_useful-std-library-modules.ipynb\n",
      "-rw-r--r-- 1 runner runner 45695 Sep 24 19:48 05_numpy.ipynb\n",
      "-rw-r--r-- 1 runner runner  2460 Sep 24 19:48 06b_matplotlib_animation.ipynb\n",
      "-rw-r--r-- 1 runner runner 12297 Sep 24 19:48 07b_VSCode.md\n",
      "-rw-r--r-- 1 runner runner 27811 Sep 24 19:48 09_a_Geopandas.ipynb\n",
      "-rw-r--r-- 1 runner runner  9730 Sep 24 19:48 09_b_Geopandas_ABQ.ipynb\n",
      "-rw-r--r-- 1 runner runner 22961 Sep 24 19:48 10a_Rasterio_intro.ipynb\n",
      "-rw-r--r-- 1 runner runner 29620 Sep 24 19:48 10b_Rasterio_advanced.ipynb\n",
      "-rw-r--r-- 1 runner runner 35369 Sep 24 19:48 11_xarray_mt_rainier_precip.ipynb\n",
      "drwxr-xr-x 3 runner runner  4096 Sep 24 19:48 another_subfolder\n",
      "drwxr-xr-x 8 runner runner  4096 Sep 24 19:47 data\n",
      "drwxr-xr-x 2 runner runner  4096 Sep 24 19:48 solutions\n",
      "CompletedProcess(args=['ls', '-l'], returncode=0)\n"
     ]
    }
   ],
   "source": [
    "# if on mac/unix\n",
    "print(subprocess.run(['ls', '-l']))"
   ]
  },
  {
   "cell_type": "markdown",
   "metadata": {},
   "source": [
    "With the `cwd` argument, we can control the working directory for the command. Here we list the files in the parent directory."
   ]
  },
  {
   "cell_type": "code",
   "execution_count": 55,
   "metadata": {
    "execution": {
     "iopub.execute_input": "2025-09-24T19:48:57.601378Z",
     "iopub.status.busy": "2025-09-24T19:48:57.601235Z",
     "iopub.status.idle": "2025-09-24T19:48:57.605248Z",
     "shell.execute_reply": "2025-09-24T19:48:57.604828Z"
    }
   },
   "outputs": [
    {
     "name": "stdout",
     "output_type": "stream",
     "text": [
      "total 8\n",
      "drwxr-xr-x 5 runner runner 4096 Sep 24 19:48 part0_python_intro\n",
      "drwxr-xr-x 5 runner runner 4096 Sep 24 19:48 part1_flopy\n",
      "CompletedProcess(args=['ls', '-l'], returncode=0)\n"
     ]
    }
   ],
   "source": [
    "print(subprocess.run(['ls', '-l'], cwd='..'))"
   ]
  },
  {
   "cell_type": "code",
   "execution_count": 56,
   "metadata": {
    "execution": {
     "iopub.execute_input": "2025-09-24T19:48:57.606557Z",
     "iopub.status.busy": "2025-09-24T19:48:57.606414Z",
     "iopub.status.idle": "2025-09-24T19:48:57.610883Z",
     "shell.execute_reply": "2025-09-24T19:48:57.610464Z"
    }
   },
   "outputs": [
    {
     "name": "stdout",
     "output_type": "stream",
     "text": [
      "00_python_basics_review.ipynb\t     10a_Rasterio_intro.ipynb\n",
      "03_useful-std-library-modules.ipynb  10b_Rasterio_advanced.ipynb\n",
      "05_numpy.ipynb\t\t\t     11_xarray_mt_rainier_precip.ipynb\n",
      "06b_matplotlib_animation.ipynb\t     another_subfolder\n",
      "07b_VSCode.md\t\t\t     data\n",
      "09_a_Geopandas.ipynb\t\t     solutions\n",
      "09_b_Geopandas_ABQ.ipynb\n",
      "CompletedProcess(args=['dir'], returncode=0)\n"
     ]
    }
   ],
   "source": [
    "# if on windows\n",
    "print(subprocess.run(['dir'], shell=True))"
   ]
  },
  {
   "cell_type": "markdown",
   "metadata": {},
   "source": [
    "## ``zipfile`` — Work with ZIP archives\n",
    "\n",
    "### zip up one of the files in data/"
   ]
  },
  {
   "cell_type": "code",
   "execution_count": 57,
   "metadata": {
    "execution": {
     "iopub.execute_input": "2025-09-24T19:48:57.612223Z",
     "iopub.status.busy": "2025-09-24T19:48:57.612092Z",
     "iopub.status.idle": "2025-09-24T19:48:57.621305Z",
     "shell.execute_reply": "2025-09-24T19:48:57.620928Z"
    }
   },
   "outputs": [],
   "source": [
    "with zipfile.ZipFile('junk.zip', 'w') as dest:\n",
    "    dest.write('data/xarray/daymet_prcp_rainier_1980-2018.nc')"
   ]
  },
  {
   "cell_type": "markdown",
   "metadata": {},
   "source": [
    "### now extract it"
   ]
  },
  {
   "cell_type": "code",
   "execution_count": 58,
   "metadata": {
    "execution": {
     "iopub.execute_input": "2025-09-24T19:48:57.622589Z",
     "iopub.status.busy": "2025-09-24T19:48:57.622448Z",
     "iopub.status.idle": "2025-09-24T19:48:57.631155Z",
     "shell.execute_reply": "2025-09-24T19:48:57.630667Z"
    }
   },
   "outputs": [],
   "source": [
    "with zipfile.ZipFile('junk.zip') as src:\n",
    "    src.extract('data/xarray/daymet_prcp_rainier_1980-2018.nc', path='extracted_data')"
   ]
  },
  {
   "cell_type": "markdown",
   "metadata": {},
   "source": [
    "## Testing Your Skills with a truly awful example:\n",
    "\n",
    "### the problem:\n",
    "Pretend that the file `data/fileio/netcdf_data.zip` contains some climate data (in the NetCDF format with the ``*.nc`` extension) that we downloaded. If you open `data/fileio/netcdf_data.zip`, you'll see that within a subfolder `zipped` are a bunch of additional subfolders, each for a different year. Within each subfolder is another zipfile. Within each of these zipfiles is yet another subfolder, inside of which is the actual data file we want (`prcp.nc`). "
   ]
  },
  {
   "cell_type": "code",
   "execution_count": 59,
   "metadata": {
    "execution": {
     "iopub.execute_input": "2025-09-24T19:48:57.632509Z",
     "iopub.status.busy": "2025-09-24T19:48:57.632375Z",
     "iopub.status.idle": "2025-09-24T19:48:57.635814Z",
     "shell.execute_reply": "2025-09-24T19:48:57.635309Z"
    }
   },
   "outputs": [
    {
     "name": "stdout",
     "output_type": "stream",
     "text": [
      "netcdf_data/\n",
      "netcdf_data/zipped/\n",
      "netcdf_data/zipped/zipped_1991/\n",
      "netcdf_data/zipped/zipped_1991/12270_1991.zip\n",
      "netcdf_data/zipped/zipped_1996/\n",
      "netcdf_data/zipped/zipped_1996/12270_1996.zip\n",
      "netcdf_data/zipped/zipped_1998/\n",
      "netcdf_data/zipped/zipped_1998/12270_1998.zip\n",
      "netcdf_data/zipped/zipped_1999/\n",
      "netcdf_data/zipped/zipped_1999/12270_1999.zip\n"
     ]
    }
   ],
   "source": [
    "with zipfile.ZipFile('data/netcdf_data.zip') as src:\n",
    "    for f in src.namelist()[:10]:\n",
    "        print(f)"
   ]
  },
  {
   "cell_type": "markdown",
   "metadata": {},
   "source": [
    "### the goal:\n",
    "To extract all of these `prcp.nc` files into a single folder, after renaming them with their respective years (obtained from their enclosing folders or zip files). e.g.  \n",
    "```\n",
    "prcp_1980.nc\n",
    "prcp_1981.nc\n",
    "...\n",
    "```\n",
    "This will allow us to open them together as a dataset in `xarray` (more on that later). Does this sound awful? I'm not making this up. This is the kind of structure you get when downloading tiles of climate data with the [Daymet Tile Selection Tool](https://daymet.ornl.gov/gridded/)\n",
    "\n",
    "### hint:\n",
    "you might find these functions helpful:\n",
    "```\n",
    "ZipFile.extractall\n",
    "ZipFile.extract\n",
    "Path.glob\n",
    "Path.mkdir\n",
    "Path.stem\n",
    "Path.parent\n",
    "Path.name\n",
    "shutil.move\n",
    "Path.rmdir()\n",
    "```"
   ]
  },
  {
   "cell_type": "markdown",
   "metadata": {},
   "source": [
    "### hint: start by using ``ZipFile.extractall()`` to extract all of the individual zip files from the main zip archive\n",
    "This extracts the entire contents of the zip file to a designated folder"
   ]
  },
  {
   "cell_type": "code",
   "execution_count": 60,
   "metadata": {
    "execution": {
     "iopub.execute_input": "2025-09-24T19:48:57.637295Z",
     "iopub.status.busy": "2025-09-24T19:48:57.637124Z",
     "iopub.status.idle": "2025-09-24T19:48:57.645839Z",
     "shell.execute_reply": "2025-09-24T19:48:57.645310Z"
    }
   },
   "outputs": [],
   "source": [
    "output_folder = Path('03-output')\n",
    "output_folder.mkdir(exist_ok=True)\n",
    "\n",
    "with zipfile.ZipFile('data/netcdf_data.zip') as src:\n",
    "    src.extractall(output_folder)"
   ]
  },
  {
   "cell_type": "markdown",
   "metadata": {},
   "source": [
    "Make a list of the zipfiles"
   ]
  },
  {
   "cell_type": "code",
   "execution_count": 61,
   "metadata": {
    "execution": {
     "iopub.execute_input": "2025-09-24T19:48:57.647303Z",
     "iopub.status.busy": "2025-09-24T19:48:57.647149Z",
     "iopub.status.idle": "2025-09-24T19:48:57.651642Z",
     "shell.execute_reply": "2025-09-24T19:48:57.651145Z"
    }
   },
   "outputs": [
    {
     "data": {
      "text/plain": [
       "[PosixPath('03-output/netcdf_data/zipped/zipped_2000/12270_2000.zip'),\n",
       " PosixPath('03-output/netcdf_data/zipped/zipped_1981/12270_1981.zip'),\n",
       " PosixPath('03-output/netcdf_data/zipped/zipped_2011/12270_2011.zip'),\n",
       " PosixPath('03-output/netcdf_data/zipped/zipped_2004/12270_2004.zip'),\n",
       " PosixPath('03-output/netcdf_data/zipped/zipped_1991/12270_1991.zip')]"
      ]
     },
     "execution_count": 61,
     "metadata": {},
     "output_type": "execute_result"
    }
   ],
   "source": [
    "zipfiles = list(output_folder.glob('netcdf_data/zipped/*/*.zip'))\n",
    "zipfiles[:5]"
   ]
  },
  {
   "cell_type": "markdown",
   "metadata": {},
   "source": [
    "### Part 1: extract with a single file"
   ]
  },
  {
   "cell_type": "code",
   "execution_count": 62,
   "metadata": {
    "execution": {
     "iopub.execute_input": "2025-09-24T19:48:57.653079Z",
     "iopub.status.busy": "2025-09-24T19:48:57.652930Z",
     "iopub.status.idle": "2025-09-24T19:48:57.656093Z",
     "shell.execute_reply": "2025-09-24T19:48:57.655589Z"
    }
   },
   "outputs": [
    {
     "data": {
      "text/plain": [
       "PosixPath('03-output/netcdf_data/zipped/zipped_2000/12270_2000.zip')"
      ]
     },
     "execution_count": 62,
     "metadata": {},
     "output_type": "execute_result"
    }
   ],
   "source": [
    "f = zipfiles[0]\n",
    "f"
   ]
  },
  {
   "cell_type": "markdown",
   "metadata": {},
   "source": [
    "#### 1a) Use ``ZipFile.namelist()`` (as above) list the contents\n",
    "\n",
    "This will yield the name of the ``*.nc`` file that we need to extract"
   ]
  },
  {
   "cell_type": "code",
   "execution_count": null,
   "metadata": {},
   "outputs": [],
   "source": []
  },
  {
   "cell_type": "markdown",
   "metadata": {},
   "source": [
    "#### 1b) Use ``ZipFile.extract()`` to extract the ``*.nc`` file to the destination folder\n",
    "(you may need to create the destination folder first)"
   ]
  },
  {
   "cell_type": "code",
   "execution_count": null,
   "metadata": {},
   "outputs": [],
   "source": []
  },
  {
   "cell_type": "markdown",
   "metadata": {},
   "source": [
    "#### 1c) Move the extracted file out of any enclosing subfolders, and rename to ``prcp_<year>.nc``\n",
    "(so that if we repeat this for subsequent files, the extracted ``*.nc`` files will end up in the same place)"
   ]
  },
  {
   "cell_type": "code",
   "execution_count": null,
   "metadata": {},
   "outputs": [],
   "source": []
  },
  {
   "cell_type": "markdown",
   "metadata": {},
   "source": [
    "#### 1d) Remove the extra subfolders that were extracted"
   ]
  },
  {
   "cell_type": "code",
   "execution_count": null,
   "metadata": {},
   "outputs": [],
   "source": []
  },
  {
   "cell_type": "markdown",
   "metadata": {},
   "source": [
    "### Part 2: put the above steps together into a loop to repeat the workflow for all of the NetCDF files"
   ]
  },
  {
   "cell_type": "code",
   "execution_count": null,
   "metadata": {},
   "outputs": [],
   "source": []
  },
  {
   "cell_type": "markdown",
   "metadata": {},
   "source": [
    "## Bonus Application -- Using ``os`` to find the location of an executable\n",
    "\n",
    "There are often times that you run an executable that is nested somewhere deep within your system path.  It can often be a good idea to know exactly where that executable is located.  This might help you one day from accidentally using an older version of an executable, such as MODFLOW."
   ]
  },
  {
   "cell_type": "code",
   "execution_count": 63,
   "metadata": {
    "execution": {
     "iopub.execute_input": "2025-09-24T19:48:57.657619Z",
     "iopub.status.busy": "2025-09-24T19:48:57.657470Z",
     "iopub.status.idle": "2025-09-24T19:48:57.661255Z",
     "shell.execute_reply": "2025-09-24T19:48:57.660831Z"
    }
   },
   "outputs": [],
   "source": [
    "# Define two functions to help determine 'which' program you are using\n",
    "def is_exe(fpath):\n",
    "    \"\"\"\n",
    "    Return True if fpath is an executable, otherwise return False\n",
    "    \"\"\"\n",
    "    return os.path.isfile(fpath) and os.access(fpath, os.X_OK)\n",
    "\n",
    "def which(program):\n",
    "    \"\"\"\n",
    "    Locate the program and return its full path.  Return\n",
    "    None if the program cannot be located.\n",
    "    \"\"\"\n",
    "    fpath, fname = os.path.split(program)\n",
    "    if fpath:\n",
    "        if is_exe(program):\n",
    "            return program\n",
    "    else:\n",
    "        # test for exe in current working directory\n",
    "        if is_exe(program):\n",
    "            return program\n",
    "        # test for exe in path statement\n",
    "        for path in os.environ[\"PATH\"].split(os.pathsep):\n",
    "            path = path.strip('\"')\n",
    "            exe_file = os.path.join(path, program)\n",
    "            if is_exe(exe_file):\n",
    "                return exe_file\n",
    "    return None"
   ]
  },
  {
   "cell_type": "code",
   "execution_count": 64,
   "metadata": {
    "execution": {
     "iopub.execute_input": "2025-09-24T19:48:57.662490Z",
     "iopub.status.busy": "2025-09-24T19:48:57.662353Z",
     "iopub.status.idle": "2025-09-24T19:48:57.665425Z",
     "shell.execute_reply": "2025-09-24T19:48:57.665056Z"
    }
   },
   "outputs": [
    {
     "data": {
      "text/plain": [
       "'/home/runner/.local/bin/mf6'"
      ]
     },
     "execution_count": 64,
     "metadata": {},
     "output_type": "execute_result"
    }
   ],
   "source": [
    "which('mf6')"
   ]
  },
  {
   "cell_type": "code",
   "execution_count": null,
   "metadata": {},
   "outputs": [],
   "source": []
  }
 ],
 "metadata": {
  "kernelspec": {
   "display_name": "Python 3 (ipykernel)",
   "language": "python",
   "name": "python3"
  },
  "language_info": {
   "codemirror_mode": {
    "name": "ipython",
    "version": 3
   },
   "file_extension": ".py",
   "mimetype": "text/x-python",
   "name": "python",
   "nbconvert_exporter": "python",
   "pygments_lexer": "ipython3",
   "version": "3.11.13"
  }
 },
 "nbformat": 4,
 "nbformat_minor": 4
}
